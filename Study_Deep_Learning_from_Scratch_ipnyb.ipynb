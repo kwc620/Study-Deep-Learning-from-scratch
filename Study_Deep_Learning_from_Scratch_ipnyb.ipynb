{
  "nbformat": 4,
  "nbformat_minor": 0,
  "metadata": {
    "colab": {
      "name": "Study: Deep Learning from Scratch.ipnyb",
      "provenance": [],
      "collapsed_sections": [],
      "toc_visible": true
    },
    "kernelspec": {
      "name": "python3",
      "display_name": "Python 3"
    },
    "language_info": {
      "name": "python"
    }
  },
  "cells": [
    {
      "cell_type": "markdown",
      "metadata": {
        "id": "7BXBJs0b5VX3"
      },
      "source": [
        "#**Deep Learning from Scratch**\n",
        "###**Written by Steve Ive**\n",
        "https://www.github.com/steveive108\n",
        "\n",
        "This document is written basis on the book \"Deep Learning from Scratch\". The content is translated and organized basis on the book. This document is for study, so feel free to feedback and create issues and pull requests. Thx:)\n",
        "\n",
        "https://github.com/steveive108/Study-Deep-Learning-from-scratch"
      ]
    },
    {
      "cell_type": "markdown",
      "metadata": {
        "id": "HQvSUkfrlvCT"
      },
      "source": [
        "#**0. Perceptron**\n",
        "---\n",
        "The Core of Deep Learning, as an unit of each layer of deep learning\n",
        "\n",
        "- 2 input perceptron\n",
        "> y = 0 | (w1x1 + w2x2 <= thetha)\n",
        "\n",
        "  > y = 1 | (w1x1 + w2x2 > thetha)\n",
        "- Perceptron's signal can only has two value of 0 or 1\n",
        "\n",
        "- Perceptron is one kind of algorithm, that has input and output. It print specific value by stated rule from its input\n",
        "\n",
        "- Perceptron set 'weight' and 'bias' as parameter\n",
        "- Perceptron can express logic circuit such as AND, OR gate etc.\n",
        "- 1 layer Perceptron cannot express XOR gate.\n",
        "- 2 layer Perceptron can express XOR gate.\n",
        "- 1 layer Perceptron can only express linear area,  multi layer Perceptron can express non-linear area\n",
        "- multi layer Perceptron can express computer theoritically."
      ]
    },
    {
      "cell_type": "markdown",
      "metadata": {
        "id": "myh4xLuRmqMA"
      },
      "source": [
        "##**0-1. 1 Layer Perceptron**\n",
        "---\n",
        "1 Layer Perceptron cannot form the XOR GATE. - the limitation of 1 layer perceptron and needness of multi-layer perceptron\n",
        "\n",
        "It can also be seen as linear function\n"
      ]
    },
    {
      "cell_type": "markdown",
      "metadata": {
        "id": "mjjXgBX5mFKp"
      },
      "source": [
        "###**AND GATE**"
      ]
    },
    {
      "cell_type": "code",
      "metadata": {
        "id": "kIa2wFF9llgl"
      },
      "source": [
        "def AND(x1, x2):\n",
        "  w1, w2, theta = 0.5, 0.5, 0.7\n",
        "  tmp = x1 * w1 + x2 * w2\n",
        "  if tmp <= theta:\n",
        "    return 0\n",
        "  elif tmp > theta:\n",
        "    return 1\n",
        "\n",
        "#ADD bias and Tune to get array\n",
        "\n",
        "def AND(x1, x2):\n",
        "  x = np.array([x1, x2])\n",
        "  w = np.array([0.5, 0.5])\n",
        "  b = -0.7\n",
        "  tmp = np.sum(w*x) + b\n",
        "  if tmp <= 0:\n",
        "    return 0\n",
        "  else:\n",
        "    return 1"
      ],
      "execution_count": 30,
      "outputs": []
    },
    {
      "cell_type": "markdown",
      "metadata": {
        "id": "3zYinSTQm3yZ"
      },
      "source": [
        "###**NAND GATE**"
      ]
    },
    {
      "cell_type": "code",
      "metadata": {
        "id": "XJetmJtAm69v"
      },
      "source": [
        "def NAND(x1, x2):\n",
        "  x = np.array([x1, x2])\n",
        "  w = np.array([-0.5, -0.5])\n",
        "  b = -0.7\n",
        "  tmp = np.sum(w*x) + b\n",
        "  if tmp <= 0:\n",
        "    return 0\n",
        "  else:\n",
        "    return 1"
      ],
      "execution_count": 31,
      "outputs": []
    },
    {
      "cell_type": "markdown",
      "metadata": {
        "id": "I0T-F9DUmIiG"
      },
      "source": [
        "###**OR GATE**"
      ]
    },
    {
      "cell_type": "code",
      "metadata": {
        "id": "BMhZlhR7mIJq"
      },
      "source": [
        "def OR(x1, x2):\n",
        "  x = np.array([x1, x2])\n",
        "  w = np.array([0.5, 0.5])\n",
        "  b = -0.2\n",
        "  tmp = np.sum(w*x) + b\n",
        "  if tmp <= 0:\n",
        "    return 0\n",
        "  else:\n",
        "    return 1"
      ],
      "execution_count": 32,
      "outputs": []
    },
    {
      "cell_type": "markdown",
      "metadata": {
        "id": "u28XaJF_oOqp"
      },
      "source": [
        "##**0-2. Multi Layer Perceptron**\n",
        "---\n",
        "Multi-layer perceptron can form the XOR GATE.\n",
        "\n",
        "It means that it can be seen as non-linear function"
      ]
    },
    {
      "cell_type": "markdown",
      "metadata": {
        "id": "sA6IjSVppHNL"
      },
      "source": [
        "###**XOR GATE**\n",
        "The combination of NAND GATE, OR GATE, AND GATE"
      ]
    },
    {
      "cell_type": "code",
      "metadata": {
        "id": "86oRXMRhofAx"
      },
      "source": [
        "def XOR(x1, x2):\n",
        "  s1 = NAND(x1, x2)\n",
        "  s2 = OR(x1, x2)\n",
        "  y = AND(s1, s2)\n",
        "  return y"
      ],
      "execution_count": 33,
      "outputs": []
    },
    {
      "cell_type": "markdown",
      "metadata": {
        "id": "OZRbZPQOtDyw"
      },
      "source": [
        "---\n",
        "---"
      ]
    },
    {
      "cell_type": "markdown",
      "metadata": {
        "id": "uoxoEQPyrHdM"
      },
      "source": [
        "#**1. Neural Network**\n",
        "---\n",
        "- At the neural network, we use smoothly changing function like Sigmoid function or Relu as Activation function.\n",
        "- we can implement neural network efficiently using numpy's multi dimensional array.\n",
        "- The problem of machine learning can be divided into two main parts, the \"Regression\" and \"Classification\".\n",
        "- As the output's activation function, regression tend to use 'identity function', and classification tend to use 'softmax function'.\n",
        "- At the classification, the number of output layer's neurons are set equal to the number of classes to classify.\n",
        "- A bundle of input data is called a \"batch\", we can get more fast results when we task inference in batches.\n"
      ]
    },
    {
      "cell_type": "markdown",
      "metadata": {
        "id": "oMH1jkvcrSDN"
      },
      "source": [
        "##**1-1. Activation Function**\n",
        "\n",
        "**Non Linear Function vs Linear Function**\n",
        "- Both step function and sigmoid function is 'non linear function'\n",
        "- if output change as much as input's constant, it called 'linear function'.\n",
        "- if we use linear function as activation function, it is useless to make layers deep."
      ]
    },
    {
      "cell_type": "markdown",
      "metadata": {
        "id": "-zeyH9lzrO-g"
      },
      "source": [
        "###**Step Function**"
      ]
    },
    {
      "cell_type": "code",
      "metadata": {
        "id": "uadCvCm9rK5w"
      },
      "source": [
        "def step_function(x):\n",
        "  if x > 0:\n",
        "    return 1\n",
        "\n",
        "#tune to get np.array\n",
        "\n",
        "def step_function(x):\n",
        "  y = x > 0\n",
        "  return y.asytpe(np.int)"
      ],
      "execution_count": 34,
      "outputs": []
    },
    {
      "cell_type": "markdown",
      "metadata": {
        "id": "c5RsLxRZtoot"
      },
      "source": [
        "###**Graph of step function**"
      ]
    },
    {
      "cell_type": "code",
      "metadata": {
        "colab": {
          "base_uri": "https://localhost:8080/",
          "height": 265
        },
        "id": "aOi4vjYTtreF",
        "outputId": "aad31f2a-0e8c-442f-a04c-2755a275e3c1"
      },
      "source": [
        "import numpy as np\n",
        "import matplotlib.pylab as plt\n",
        "\n",
        "def step_function(x):\n",
        "  return np.array(x > 0, dtype=np.int)\n",
        "\n",
        "x = np.arange(-5.0, 5.0, 0.1)\n",
        "y = step_function(x)\n",
        "plt.plot(x, y)\n",
        "plt.ylim(-0.1, 1.1) # range of axis y\n",
        "plt.show()"
      ],
      "execution_count": 35,
      "outputs": [
        {
          "output_type": "display_data",
          "data": {
            "image/png": "[encoded data removed]",
            "text/plain": [
              "<Figure size 432x288 with 1 Axes>"
            ]
          },
          "metadata": {
            "tags": [],
            "needs_background": "light"
          }
        }
      ]
    },
    {
      "cell_type": "markdown",
      "metadata": {
        "id": "75rafG0IB-dG"
      },
      "source": [
        "###**Sigmoid Function**"
      ]
    },
    {
      "cell_type": "code",
      "metadata": {
        "id": "grgpSPPVCCHa"
      },
      "source": [
        "def sigmoid(x):\n",
        "  return 1 / (1 + np.exp(-x))"
      ],
      "execution_count": 36,
      "outputs": []
    },
    {
      "cell_type": "markdown",
      "metadata": {
        "id": "SGEH6POhCLu2"
      },
      "source": [
        "###**Graph of sigmoid function**"
      ]
    },
    {
      "cell_type": "code",
      "metadata": {
        "colab": {
          "base_uri": "https://localhost:8080/",
          "height": 265
        },
        "id": "_CJ6H1ZkCR7d",
        "outputId": "35f27209-fb1a-4695-cf81-4badd6d946a5"
      },
      "source": [
        "x = np.arange(-5.0, 5.0, 0.1)\n",
        "y = sigmoid(x)\n",
        "plt.plot(x, y)\n",
        "plt.ylim(-0.1, 1.1)\n",
        "plt.show()"
      ],
      "execution_count": 37,
      "outputs": [
        {
          "output_type": "display_data",
          "data": {
            "image/png": "[encoded data removed]",
            "text/plain": [
              "<Figure size 432x288 with 1 Axes>"
            ]
          },
          "metadata": {
            "tags": [],
            "needs_background": "light"
          }
        }
      ]
    },
    {
      "cell_type": "markdown",
      "metadata": {
        "id": "CREidUApCnq9"
      },
      "source": [
        "###**RELU Function**\n",
        "\n",
        "h(x) = \n",
        "\n",
        "x (x > 0)\n",
        "\n",
        "0 (x <= 0)"
      ]
    },
    {
      "cell_type": "code",
      "metadata": {
        "id": "b1Vx_5cyDubB"
      },
      "source": [
        "def relu(x):\n",
        "  return np.maximum(0, x)"
      ],
      "execution_count": 38,
      "outputs": []
    },
    {
      "cell_type": "markdown",
      "metadata": {
        "id": "PVFOISOND2oL"
      },
      "source": [
        "###**Graph of Relu Function**"
      ]
    },
    {
      "cell_type": "code",
      "metadata": {
        "colab": {
          "base_uri": "https://localhost:8080/",
          "height": 265
        },
        "id": "a_6kgnD0D7N3",
        "outputId": "3209bc95-6d3f-4d70-d07a-a18f281b4e93"
      },
      "source": [
        "x = np.arange(-5.0, 5.0, 0.1)\n",
        "y = relu(x)\n",
        "plt.plot(x, y)\n",
        "plt.ylim(-0.1, 1.1)\n",
        "plt.show()"
      ],
      "execution_count": 39,
      "outputs": [
        {
          "output_type": "display_data",
          "data": {
            "image/png": "[encoded data removed]",
            "text/plain": [
              "<Figure size 432x288 with 1 Axes>"
            ]
          },
          "metadata": {
            "tags": [],
            "needs_background": "light"
          }
        }
      ]
    },
    {
      "cell_type": "markdown",
      "metadata": {
        "id": "S4GSAxeREcV4"
      },
      "source": [
        "##**1-2. Multi Dimension Array**\n",
        "if numbers are listed as one line, or rectangle or 3 dimension, further to N dimension, we call it 'Mutli Dimension Array'.\n",
        "\n",
        "- **np.ndim(Array)**: \n",
        "check the dimension of array\n",
        "\n",
        "- **Array.shape**:\n",
        "check the shape of array (**return tuple**)\n",
        "\n",
        "- **Array.shape[0]**: check amount of numbers in the first dimension(index is zero)"
      ]
    },
    {
      "cell_type": "code",
      "metadata": {
        "colab": {
          "base_uri": "https://localhost:8080/"
        },
        "id": "x2jdphWhEgk-",
        "outputId": "70c02a3a-b946-406b-a055-032771d50b5e"
      },
      "source": [
        "# 1 Dimension Array\n",
        "import numpy as np\n",
        "A = np.array([1,2,3,4])\n",
        "\n",
        "np.ndim(A)\n",
        "\n",
        "A.shape\n",
        "A.shape[0]\n",
        "\n",
        "# 2 Dimension Array\n",
        "B = np.array([[1,2], [3,4], [5,6]])\n",
        "print(B)\n",
        "\n",
        "np.ndim(B)\n",
        "\n",
        "B.shape"
      ],
      "execution_count": 40,
      "outputs": [
        {
          "output_type": "stream",
          "text": [
            "[[1 2]\n",
            " [3 4]\n",
            " [5 6]]\n"
          ],
          "name": "stdout"
        },
        {
          "output_type": "execute_result",
          "data": {
            "text/plain": [
              "(3, 2)"
            ]
          },
          "metadata": {
            "tags": []
          },
          "execution_count": 40
        }
      ]
    },
    {
      "cell_type": "markdown",
      "metadata": {
        "id": "AAknVa2dGkQp"
      },
      "source": [
        "###**Dot Product of Matrix**\n",
        "\n",
        "- **np.dot(A, B)**: dot product of matrix"
      ]
    },
    {
      "cell_type": "code",
      "metadata": {
        "colab": {
          "base_uri": "https://localhost:8080/"
        },
        "id": "H8gPfExFGwrt",
        "outputId": "f9010def-8b93-4011-972c-02f8a07dd7dc"
      },
      "source": [
        "# 2X2 Matrix dot product\n",
        "A = np.array([[1,2], [3,4]])\n",
        "A.shape\n",
        "\n",
        "B = np.array([[5,6], [7,8]])\n",
        "B.shape\n",
        "\n",
        "np.dot(A, B)\n",
        "\n",
        "# 3X3 Matrix dot product with 3X2 Matrix \n",
        "A = np.array([[1,2,3], [4,5,6]])\n",
        "A.shape\n",
        "B = np.array([[1,2], [3,4], [5,6]])\n",
        "B.shape\n",
        "np.dot(A, B)\n",
        "\n",
        "# 3X2 Matrix dot product with 2X1 Matrix\n",
        "A = np.array([[1,2], [3,4], [5,6]])\n",
        "A.shape\n",
        "B = np.array([7,8])\n",
        "B.shape\n",
        "np.dot(A, B)"
      ],
      "execution_count": 41,
      "outputs": [
        {
          "output_type": "execute_result",
          "data": {
            "text/plain": [
              "array([23, 53, 83])"
            ]
          },
          "metadata": {
            "tags": []
          },
          "execution_count": 41
        }
      ]
    },
    {
      "cell_type": "markdown",
      "metadata": {
        "id": "-jn0V5aWJJkR"
      },
      "source": [
        "##**1-3. Matrix Dot Product in Neural Network**\n",
        "\n",
        "Dot Product in Neural Network can be said as 'Results indicating set of weighted sum of nodes in previous layer, each edge is one kind of Broad Casting from node to each set of weights that is indicated to the node'\n",
        "\n",
        "Or, we could say some kind of converter, which return the constraint number of output from constraint number of input with the multiplying of each weighted edges."
      ]
    },
    {
      "cell_type": "code",
      "metadata": {
        "colab": {
          "base_uri": "https://localhost:8080/"
        },
        "id": "qk7aTrswLrXQ",
        "outputId": "4baa99d4-2ccd-4e47-8f7e-0cf4a0335ec9"
      },
      "source": [
        "# form of X, Y, W\n",
        "\n",
        "X = np.array([1, 2])\n",
        "X.shape\n",
        "\n",
        "W = np.array([[1,3,5], [2,4,6]])\n",
        "print(W)\n",
        "\n",
        "W.shape\n",
        "Y = np.dot(X, W)\n",
        "print(Y)"
      ],
      "execution_count": 42,
      "outputs": [
        {
          "output_type": "stream",
          "text": [
            "[[1 3 5]\n",
            " [2 4 6]]\n",
            "[ 5 11 17]\n"
          ],
          "name": "stdout"
        }
      ]
    },
    {
      "cell_type": "markdown",
      "metadata": {
        "id": "cl7azlFQM-sA"
      },
      "source": [
        "##**1-4. Create 3 Layer Neural Network**"
      ]
    },
    {
      "cell_type": "markdown",
      "metadata": {
        "id": "Fr3dAHhON6t5"
      },
      "source": [
        "###**0(Input) Layer to 1 Layer**\n",
        "\n",
        " A(1) = XW(1) + B(1)\n",
        "\n",
        "Z(1) = Sigmoid(A1)"
      ]
    },
    {
      "cell_type": "code",
      "metadata": {
        "colab": {
          "base_uri": "https://localhost:8080/"
        },
        "id": "UPA8ebF3NONc",
        "outputId": "c775f453-a39d-4126-e46a-f9176dd871c3"
      },
      "source": [
        "X = np.array([1.0, 0.5])\n",
        "W1 = np.array([[0.1, 0.3, 0.5], [0.2, 0.4, 0.6]])\n",
        "B1 = np.array([0.1, 0.2, 0.3])\n",
        "\n",
        "print(W1.shape)\n",
        "print(X.shape)\n",
        "print(B1.shape)\n",
        "\n",
        "A1 = np.dot(X, W1) + B1"
      ],
      "execution_count": 43,
      "outputs": [
        {
          "output_type": "stream",
          "text": [
            "(2, 3)\n",
            "(2,)\n",
            "(3,)\n"
          ],
          "name": "stdout"
        }
      ]
    },
    {
      "cell_type": "markdown",
      "metadata": {
        "id": "O0n3TL9l0Pwg"
      },
      "source": [
        "####**convert signal with sigmoid**\n",
        "\n",
        "**h(A) = Z**"
      ]
    },
    {
      "cell_type": "code",
      "metadata": {
        "colab": {
          "base_uri": "https://localhost:8080/"
        },
        "id": "Hr5pbcQ3N0cJ",
        "outputId": "d69a6071-fcf8-4d42-d9ca-f3decd86bc16"
      },
      "source": [
        "Z1 = sigmoid(A1)\n",
        "\n",
        "print(A1)\n",
        "print(Z1)"
      ],
      "execution_count": 44,
      "outputs": [
        {
          "output_type": "stream",
          "text": [
            "[0.3 0.7 1.1]\n",
            "[0.57444252 0.66818777 0.75026011]\n"
          ],
          "name": "stdout"
        }
      ]
    },
    {
      "cell_type": "markdown",
      "metadata": {
        "id": "iEREt_zI0xlM"
      },
      "source": [
        "###**Layer 1 to Layer 2**\n",
        "\n",
        "A(2) = XW(2) + B(2)\n",
        "\n",
        "Z2 = Sigmoid(A(2))"
      ]
    },
    {
      "cell_type": "code",
      "metadata": {
        "colab": {
          "base_uri": "https://localhost:8080/"
        },
        "id": "_iYw_tkD1hAT",
        "outputId": "c22ba437-ba5f-4e2a-b1da-df0bcc41aee8"
      },
      "source": [
        "W2 = np.array([[0.1, 0.4], [0.2, 0.5], [0.3, 0.6]])\n",
        "B2 = np.array([0.1, 0.2])\n",
        "\n",
        "print(Z1.shape)\n",
        "print(W2.shape)\n",
        "print(B2.shape)\n",
        "\n",
        "A2 = np.dot(Z1, W2) + B2\n",
        "Z2 = sigmoid(A2)"
      ],
      "execution_count": 45,
      "outputs": [
        {
          "output_type": "stream",
          "text": [
            "(3,)\n",
            "(3, 2)\n",
            "(2,)\n"
          ],
          "name": "stdout"
        }
      ]
    },
    {
      "cell_type": "markdown",
      "metadata": {
        "id": "Pdb8Q7xZ2PGa"
      },
      "source": [
        "###**Layer2 to output Layer**\n",
        "\n",
        "A(3) = XW(3) + B(3)\n",
        "\n",
        "Y = identity_function(A(3))\n",
        "\n",
        "- **identity function**: return output using the input as is\n",
        "\n"
      ]
    },
    {
      "cell_type": "code",
      "metadata": {
        "colab": {
          "base_uri": "https://localhost:8080/"
        },
        "id": "h-OF1Wfs3H-F",
        "outputId": "91f2f169-feb5-4666-b10c-613ea2ecd79a"
      },
      "source": [
        "def identity_function(x):\n",
        "  return x\n",
        "\n",
        "W3 = np.array([[0.1, 0.3], [0.2, 0.4]])\n",
        "B3 = np.array([0.1, 0.2])\n",
        "\n",
        "A3 = np.dot(Z2, W3) + B3\n",
        "Y = identity_function(A3) # Y = A3\n",
        "\n",
        "print(Y)"
      ],
      "execution_count": 46,
      "outputs": [
        {
          "output_type": "stream",
          "text": [
            "[0.31682708 0.69627909]\n"
          ],
          "name": "stdout"
        }
      ]
    },
    {
      "cell_type": "markdown",
      "metadata": {
        "id": "wSsH6mom3oVP"
      },
      "source": [
        "##**1-5. Conclusion of 3 layer Neural Network**"
      ]
    },
    {
      "cell_type": "code",
      "metadata": {
        "colab": {
          "base_uri": "https://localhost:8080/"
        },
        "id": "Sfm7GgdT3v4Y",
        "outputId": "9d017066-cf45-476e-94fb-67870c3a3910"
      },
      "source": [
        "def init_network():\n",
        "  network = {}\n",
        "  network['W1'] = np.array([[0.1, 0.3, 0.5], [ 0.2, 0.4, 0.5]])\n",
        "  network['b1'] = np.array([0.1, 0.2, 0.3])\n",
        "  network['W2'] = np.array([[0.1, 0.4], [0.2, 0.5], [0.3, 0.6]])\n",
        "  network['b2'] = np.array([0.1, 0.2])\n",
        "  network['W3'] = np.array([[0.1, 0.3], [0.2, 0.4]])\n",
        "  network['b3'] = np.array([0.1, 0.2])\n",
        "\n",
        "  return network\n",
        "\n",
        "def forward(network, x):\n",
        "  W1, W2, W3 = network['W1'], network['W2'], network['W3']\n",
        "  b1, b2, b3 = network['b1'], network['b2'], network['b3']\n",
        "\n",
        "  a1 = np.dot(x, W1) + b1\n",
        "  z1 = sigmoid(a1)\n",
        "  \n",
        "  a2 = np.dot(z1, W2) + b2\n",
        "  z2 = sigmoid(a2)\n",
        "\n",
        "  a3 = np.dot(z2, W3) + b3\n",
        "  y = identity_function(a3)\n",
        "\n",
        "  return y\n",
        "\n",
        "network = init_network()\n",
        "\n",
        "x = np.array([1.0, 0.5])\n",
        "y = forward(network, x)\n",
        "print(y)"
      ],
      "execution_count": 47,
      "outputs": [
        {
          "output_type": "stream",
          "text": [
            "[0.31655918 0.69567667]\n"
          ],
          "name": "stdout"
        }
      ]
    },
    {
      "cell_type": "markdown",
      "metadata": {
        "id": "6znDgjsA88tK"
      },
      "source": [
        "##**1-6. Create OutPut Layer**\n",
        "\n",
        "Neural Network can be used in both classificiation and regression. Therefore, The activation function vary to kinds of problem. Generally, ***regression*** problem uses **identity function** as activation function, and ***classifciation*** problem uses **softmax** as activation function.\n",
        "\n",
        "> Machine learning problem consist of 'Classification', 'Regression' ."
      ]
    },
    {
      "cell_type": "markdown",
      "metadata": {
        "id": "Emicb-Wo-m8H"
      },
      "source": [
        "####**Identity Function and Softmax Function**\n",
        "\n",
        "- **Identity Function**: a1 -> y1\n",
        "\n",
        "- **softmax Function**: y(k) = exp( a(k) ) / sum( exp( a(i) ) \n",
        "\n",
        "> (i=1 to k)\n",
        "\n",
        "- ***Identity Function output*** nodes get signal from the **each corresponding node** of previous layer, otherwise ***softmax function output*** nodes get signal from **all nodes** of previous layer. "
      ]
    },
    {
      "cell_type": "markdown",
      "metadata": {
        "id": "YjyVrke9AdDc"
      },
      "source": [
        "####**Softmax Function**"
      ]
    },
    {
      "cell_type": "code",
      "metadata": {
        "colab": {
          "base_uri": "https://localhost:8080/"
        },
        "id": "lVE1Dgd9-DpB",
        "outputId": "98dcfa00-6d44-45ad-97da-75de69510991"
      },
      "source": [
        "a = np.array([0.3, 2.9, 4.0])\n",
        "\n",
        "exp_a = np.exp(a)\n",
        "print(exp_a)\n",
        "\n",
        "sum_exp_a = np.sum(exp_a)\n",
        "print(sum_exp_a)\n",
        "\n",
        "y = exp_a / sum_exp_a\n",
        "print(y)"
      ],
      "execution_count": 48,
      "outputs": [
        {
          "output_type": "stream",
          "text": [
            "[ 1.34985881 18.17414537 54.59815003]\n",
            "74.1221542101633\n",
            "[0.01821127 0.24519181 0.73659691]\n"
          ],
          "name": "stdout"
        }
      ]
    },
    {
      "cell_type": "code",
      "metadata": {
        "id": "Vj1nKqDKA6pu"
      },
      "source": [
        "def softmax(a):\n",
        "  exp_a = np.exp(a)\n",
        "  sum_exp_a = np.sum(exp_a)\n",
        "\n",
        "  y = exp_a / sum_exp_a\n",
        "\n",
        "  return y"
      ],
      "execution_count": 49,
      "outputs": []
    },
    {
      "cell_type": "markdown",
      "metadata": {
        "id": "jMsxlHYUBcPn"
      },
      "source": [
        "####**Warning of implementing softmax function in python**\n",
        "\n",
        "When creating softmax function in python, there has a flaw called 'overflow'. softmax function is exponential function, which return the very large value. For example, exp(10) is over 20,000, exp(100) has 40 zeros, exp(1000) call 'inf' which means infinite. Also, when we divide with these large value, the result is unstable.\n",
        "\n",
        "> So we should reform the softmax function, using the max value from the input signal of softmax."
      ]
    },
    {
      "cell_type": "code",
      "metadata": {
        "colab": {
          "base_uri": "https://localhost:8080/"
        },
        "id": "E_ZpwkmCCTEU",
        "outputId": "6121091b-9b05-4b76-f453-4c6510201219"
      },
      "source": [
        "#not functioning well\n",
        "a = np.array([1010, 1000, 990])\n",
        "np.exp(a) / np.sum(np.exp(a))"
      ],
      "execution_count": 50,
      "outputs": [
        {
          "output_type": "stream",
          "text": [
            "/usr/local/lib/python3.7/dist-packages/ipykernel_launcher.py:3: RuntimeWarning: overflow encountered in exp\n",
            "  This is separate from the ipykernel package so we can avoid doing imports until\n",
            "/usr/local/lib/python3.7/dist-packages/ipykernel_launcher.py:3: RuntimeWarning: invalid value encountered in true_divide\n",
            "  This is separate from the ipykernel package so we can avoid doing imports until\n"
          ],
          "name": "stderr"
        },
        {
          "output_type": "execute_result",
          "data": {
            "text/plain": [
              "array([nan, nan, nan])"
            ]
          },
          "metadata": {
            "tags": []
          },
          "execution_count": 50
        }
      ]
    },
    {
      "cell_type": "code",
      "metadata": {
        "colab": {
          "base_uri": "https://localhost:8080/"
        },
        "id": "LfeQhlPpCm7w",
        "outputId": "250b1d99-772e-4f7f-e72a-374dc267a535"
      },
      "source": [
        "#functioning well\n",
        "c = np.max(a)\n",
        "\n",
        "a - c\n",
        "\n",
        "np.exp(a - c) / sum(np.exp(a - c))"
      ],
      "execution_count": 51,
      "outputs": [
        {
          "output_type": "execute_result",
          "data": {
            "text/plain": [
              "array([9.99954600e-01, 4.53978686e-05, 2.06106005e-09])"
            ]
          },
          "metadata": {
            "tags": []
          },
          "execution_count": 51
        }
      ]
    },
    {
      "cell_type": "code",
      "metadata": {
        "id": "PqgtoiUUC8tf"
      },
      "source": [
        "#re generating softmax function\n",
        "\n",
        "def softmax(a):\n",
        "  c = np.max(a)\n",
        "  exp_a = np.exp(a - c)\n",
        "  sum_exp_a = np.sum(exp_a)\n",
        "\n",
        "  y= exp_a / sum_exp_a\n",
        "\n",
        "  return y"
      ],
      "execution_count": 52,
      "outputs": []
    },
    {
      "cell_type": "markdown",
      "metadata": {
        "id": "bMvxoWmaDNPG"
      },
      "source": [
        "####**The Feature of softmax function**\n",
        "\n",
        "The feature of the softmax function is its sum of output is 1. This is one of the important feature of softmax function."
      ]
    },
    {
      "cell_type": "code",
      "metadata": {
        "colab": {
          "base_uri": "https://localhost:8080/"
        },
        "id": "g0qdcSY9De_P",
        "outputId": "90dc9c1d-591d-4fd1-8436-250df685012d"
      },
      "source": [
        "a = np.array([0.3, 2.9, 4.0])\n",
        "y = softmax(a)\n",
        "print(y)\n",
        "\n",
        "np.sum(y)"
      ],
      "execution_count": 53,
      "outputs": [
        {
          "output_type": "stream",
          "text": [
            "[0.01821127 0.24519181 0.73659691]\n"
          ],
          "name": "stdout"
        },
        {
          "output_type": "execute_result",
          "data": {
            "text/plain": [
              "1.0"
            ]
          },
          "metadata": {
            "tags": []
          },
          "execution_count": 53
        }
      ]
    },
    {
      "cell_type": "markdown",
      "metadata": {
        "id": "pMc00BRPEC9g"
      },
      "source": [
        "####**On the basis of this feature, We can explain softmax as \"Probability\"**\n",
        "\n",
        "- y[0]'s possibility: 0.018(1.8%)\n",
        "- y[1]'s possibility: 0.245(24.5%)\n",
        "- y[2]'s possibility: 0.737(73.7%)\n",
        "\n",
        "####**We can predict the answer is 'class 2', since the output possibility of second index is the largest.**\n",
        "\n",
        "####**For the important thing, each large-small relationship between elements does not change after adopting softmax.**\n",
        "\n",
        "> **softmax: y = exp(x) is monotic increasing function.**\n",
        "\n",
        "####**Classification using neural network generally only recognize the largest output value node. As a result, when we inference the classification task with neural network, we tend to omit the softmax generally to reduce the resource to calculate the exponential function. However, we should use softmax function when we train the neural network.**\n",
        "\n",
        "> Solving Machine learning problem goes through two stages, which are the 'Train' and 'Inference'. After training the neural network, we task inference with the unseen data."
      ]
    },
    {
      "cell_type": "markdown",
      "metadata": {
        "id": "-G2ATJ2otA5X"
      },
      "source": [
        "####**Each Output's neuron indicates the corresponding class**\n",
        "\n",
        "For Example, we can create y0 to y9 node in output layer, that indicating each number 0 to 9."
      ]
    },
    {
      "cell_type": "markdown",
      "metadata": {
        "id": "165-ueOqtXFZ"
      },
      "source": [
        "##**1-7. Hand digit Recognition**\n",
        "Let's build only inference task without training with pre-trained weights. \n",
        "\n",
        "The inference task is called \"Propagation\".\n",
        "\n",
        "> As same with machine learning, the deep learning also solve problem through two steps, first, train the weights with train dataset, second, at the inference step uses the trained weights to classify the input data."
      ]
    },
    {
      "cell_type": "markdown",
      "metadata": {
        "id": "hCTyCK4wwLKk"
      },
      "source": [
        "####**MNIST DATASET**\n",
        "> MNIST data is one of the famous dataset in machine learning that consist of hand written digit. It is used in various field from simple research to paper research. You would find mnist dataset in many image recognize paper or machine learning paper as test dataset.\n",
        "\n",
        "> MNIST dataset consist of number from 0 to 9.\n",
        "\n",
        "- 60000 train image : train the model\n",
        "- 10000 test image : evaluate the model\n",
        "\n",
        "> MNIST image data is gray scaled 28 x 28 image, which is 1 channel.\n",
        "Each pixel takes 0 to 255, with the labeled of corresponding number such as '7', '1', '0'.\n"
      ]
    },
    {
      "cell_type": "code",
      "metadata": {
        "id": "nO6fF-HcGi6x",
        "colab": {
          "base_uri": "https://localhost:8080/"
        },
        "outputId": "4275fb8f-0623-4702-e547-c305d60c5877"
      },
      "source": [
        "#load mnist dataset from mnist.py\n",
        "\n",
        "#import sys, os\n",
        "#sys.path.append(os.pardir) #set to get the file of parent directory\n",
        "%cd '/content/drive/MyDrive/'\n",
        "!pwd\n",
        "from mnist import load_mnist\n",
        "\n",
        "(x_train, t_train), (x_test, t_test) = load_mnist(flatten=True, normalize=True) #first takes few minuites"
      ],
      "execution_count": 54,
      "outputs": [
        {
          "output_type": "stream",
          "text": [
            "/content/drive/MyDrive\n",
            "/content/drive/MyDrive\n"
          ],
          "name": "stdout"
        }
      ]
    },
    {
      "cell_type": "code",
      "metadata": {
        "colab": {
          "base_uri": "https://localhost:8080/"
        },
        "id": "hSdBNayZ8BU8",
        "outputId": "d703d291-4949-4971-bef0-ebc832d44c71"
      },
      "source": [
        "print(x_train.shape)\n",
        "print(t_train.shape)\n",
        "print(x_test.shape)\n",
        "print(t_test.shape)"
      ],
      "execution_count": 55,
      "outputs": [
        {
          "output_type": "stream",
          "text": [
            "(60000, 784)\n",
            "(60000,)\n",
            "(10000, 784)\n",
            "(10000,)\n"
          ],
          "name": "stdout"
        }
      ]
    },
    {
      "cell_type": "markdown",
      "metadata": {
        "id": "qhQUw3yp-EgS"
      },
      "source": [
        "####**Show image**\n",
        "\n",
        "`flatten=True` makes image data as 1 dimension array, we should reshape it 2 dimension of 28 x 28.\n",
        "\n",
        "Also, image data that is saved of numpy should be converted PIL data object, this task is converted by `Image.fromarray()`"
      ]
    },
    {
      "cell_type": "code",
      "metadata": {
        "colab": {
          "base_uri": "https://localhost:8080/"
        },
        "id": "DmrpsJJa9Nly",
        "outputId": "7e677ae7-33aa-4894-a4da-c78be3a75627"
      },
      "source": [
        "import numpy as np\n",
        "from mnist import load_mnist\n",
        "from PIL import Image\n",
        "\n",
        "def img_show(img):\n",
        "  pil_img = Image.fromarray(np.uint8(img))\n",
        "  pil_img.show()\n",
        "\n",
        "(x_train, t_train), (x_test, t_test) = load_mnist(flatten=True, normalize=True)\n",
        "\n",
        "img = x_train[0]\n",
        "label = t_train[0]\n",
        "print(label)#5\n",
        "\n",
        "print(img.shape)\n",
        "img = img.reshape(28, 28)\n",
        "print(img.shape)\n",
        "\n",
        "img_show(img)"
      ],
      "execution_count": 56,
      "outputs": [
        {
          "output_type": "stream",
          "text": [
            "5\n",
            "(784,)\n",
            "(28, 28)\n"
          ],
          "name": "stdout"
        }
      ]
    },
    {
      "cell_type": "markdown",
      "metadata": {
        "id": "-eP_Zyl0_yrs"
      },
      "source": [
        "###**Inference MNIST with neural network**\n",
        "\n",
        "- input layer and output layer\n",
        "\n",
        "> input layer has 784 neurons (28 x 28 = 784)\n",
        "\n",
        "> output layer has 10 neurons\n",
        "\n",
        "- total 2 hidden layers\n",
        "\n",
        "> layer 1 has 50 neurons(arbitrary)\n",
        "\n",
        "> layer 2 has 100 neurons(arbitrary)\n",
        "\n",
        "- sample_weight.pkl has trained weights\n",
        "\n"
      ]
    },
    {
      "cell_type": "code",
      "metadata": {
        "id": "8mH5srz1Afbd"
      },
      "source": [
        "import pickle\n",
        "\n",
        "def get_data():\n",
        "  (x_train, t_train), (x_test, t_test) = load_mnist(flatten=True, normalize=True, one_hot_label=False)\n",
        "  return x_test, t_test\n",
        "\n",
        "def init_network():\n",
        "  with open(\"sample_weight.pkl\", \"rb\") as f:\n",
        "    network = pickle.load(f)\n",
        "\n",
        "  return network\n",
        "\n",
        "def predict(network, x):\n",
        "  W1, W2, W3 = network['W1'], network['W2'], network['W3']\n",
        "  b1, b2, b3 = network['b1'], network['b2'], network['b3']\n",
        "\n",
        "  a1 = np.dot(x, W1) + b1\n",
        "  z1 = sigmoid(a1)\n",
        "\n",
        "  a2 = np.dot(z1, W2) + b2\n",
        "  z2 = sigmoid(a2)\n",
        "\n",
        "  a3 = np.dot(z2, W3) + b3\n",
        "  y= softmax(a3)\n",
        "\n",
        "  return y"
      ],
      "execution_count": 57,
      "outputs": []
    },
    {
      "cell_type": "markdown",
      "metadata": {
        "id": "poG9qsqMBvi5"
      },
      "source": [
        "###**Execute Inference and Check Accuracy**\n",
        "\n",
        "- get image one by one and classify by `predict()`\n",
        "- `predict()` function return each label's probability into numpy\n",
        "- select the largest probability index in array\n",
        "- compare with the answer label index with the selected index\n",
        "\n",
        "- count the accuracty_cnt and divide by the number of images in dataset.\n",
        "- Acurracy: 0.9352"
      ]
    },
    {
      "cell_type": "code",
      "metadata": {
        "colab": {
          "base_uri": "https://localhost:8080/"
        },
        "id": "ZV4JhypeBvSc",
        "outputId": "95e3d68a-bf74-48b1-c1c3-0e3aea14c162"
      },
      "source": [
        "x, t = get_data()\n",
        "network = init_network()\n",
        "\n",
        "accuracy_cnt = 0\n",
        "for i in range((len(x))):\n",
        "  y = predict(network, x[i])\n",
        "  p = np.argmax(y) # select the index most largest probability\n",
        "  if p == t[i]:\n",
        "    accuracy_cnt += 1\n",
        "\n",
        "print('Accuracy:', str(float(accuracy_cnt) / len(x)))"
      ],
      "execution_count": 59,
      "outputs": [
        {
          "output_type": "stream",
          "text": [
            "Accuracy: 0.9352\n"
          ],
          "name": "stdout"
        }
      ]
    },
    {
      "cell_type": "markdown",
      "metadata": {
        "id": "R4MHvj1GEMvS"
      },
      "source": [
        "###**Pre-Processing**\n",
        "\n",
        "At the `load_mnist()` we set `normalize=True`, which means that the range of each pixels which is 0 ~ 255, is converted to range of 0.0~0.1. (Divide pixels value by 255)\n",
        "\n",
        "> Like this, the processing that is converting data to specific range is called **\"Normalization**, the behavior that push specific task to input data is called **\"Pre-Processing\"** in Neural network.\n",
        "\n",
        "> Here we've done Normalize as Pre-Processing.\n",
        "\n",
        "> Neural Network uses pre-processing very frequently since the data pre-processing improves identifying ability and training speed. At the real work, it is more often to use pre-processing with considering with whole data distribution. For example, using the data's mean and standard deviation, we can shift the data either limit the range to distribute it to make center of 0. Besides, there are data \"whitening\", which is distributing whole data equally."
      ]
    },
    {
      "cell_type": "markdown",
      "metadata": {
        "id": "zCl4dGsGGIyq"
      },
      "source": [
        "###**Batch**\n",
        "Let's review the input data and weight parameter again pay attention to its 'shape'."
      ]
    },
    {
      "cell_type": "code",
      "metadata": {
        "colab": {
          "base_uri": "https://localhost:8080/"
        },
        "id": "ZVt1cULkKtWw",
        "outputId": "2f4ac10d-594c-4f10-a879-1cd2d652b420"
      },
      "source": [
        "#print the shape of weights of each layer\n",
        "\n",
        "x, _ = get_data()\n",
        "network = init_network()\n",
        "W1, W2, W3 = network['W1'], network['W2'], network['W3']\n",
        "\n",
        "print(x.shape)\n",
        "print(x[0].shape)\n",
        "print(W1.shape)\n",
        "print(W2.shape)\n",
        "print(W3.shape)"
      ],
      "execution_count": 60,
      "outputs": [
        {
          "output_type": "stream",
          "text": [
            "(10000, 784)\n",
            "(784,)\n",
            "(784, 50)\n",
            "(50, 100)\n",
            "(100, 10)\n"
          ],
          "name": "stdout"
        }
      ]
    },
    {
      "cell_type": "markdown",
      "metadata": {
        "id": "AFf6zc0hQXek"
      },
      "source": [
        "At the result, we can find the multi dimensional array's corresponding dimension's number of elements are corresponding.\n",
        "\n",
        ">  When one image is entered\n",
        "\n",
        "> --X--------W1--------     W2-------      W2-----> Y\n",
        "\n",
        "> 784-------784x50------50x100-----100x10--------10\n",
        "\n",
        "\n",
        "> when multi images are entered (hand over 100 images at one time to `predict()` in batch) => we can express 100 images of data as one input data.\n",
        "\n",
        "> -----X---------W1--------     W2-------      W2----------> Y\n",
        "\n",
        "> 100x784-------784x50------50x100-----100x10--------100x10\n",
        "\n",
        "As we can see the shape of input data is 100x784, the shape of output data is 100x10. It means the batch of the 100 images input data's result returned at once.\n",
        "\n",
        "Like this, the data that is tied up with one set is called **'Batch'**."
      ]
    },
    {
      "cell_type": "markdown",
      "metadata": {
        "id": "vabdrdbpTPuW"
      },
      "source": [
        "####**Implementing the Batch Processing**\n",
        "The marked below is the changes compared to above\n",
        "\n"
      ]
    },
    {
      "cell_type": "code",
      "metadata": {
        "colab": {
          "base_uri": "https://localhost:8080/"
        },
        "id": "UWU-8uteLdai",
        "outputId": "55f32a35-86af-4edd-8c7f-cf067c124ac8"
      },
      "source": [
        "x, t = get_data()\n",
        "network = init_network()\n",
        "\n",
        "batch_size = 100 #added\n",
        "accuracy_cnt = 0\n",
        "\n",
        "for i in range(0, len(x), batch_size): #changed\n",
        "  x_batch = x[i:i+batch_size]#changed\n",
        "  y_batch = predict(network, x_batch)#changed\n",
        "  p = np.argmax(y_batch, axis = 1)#changed\n",
        "  accuracy_cnt += np.sum(p == t[i:i+batch_size])#changed\n",
        "\n",
        "print(\"Accuracy\", str(float(accuracy_cnt) / len(x)))"
      ],
      "execution_count": 66,
      "outputs": [
        {
          "output_type": "stream",
          "text": [
            "Accuracy 0.9352\n"
          ],
          "name": "stdout"
        }
      ]
    },
    {
      "cell_type": "markdown",
      "metadata": {
        "id": "VXsStGP0MeyP"
      },
      "source": [
        "To help understanding of `p = np.argmax(y_batch, axis = 1)` and `np.sum(p == t[i:i+batch_size])`"
      ]
    },
    {
      "cell_type": "code",
      "metadata": {
        "colab": {
          "base_uri": "https://localhost:8080/"
        },
        "id": "EaVJDeb0MoR9",
        "outputId": "364057fa-8e85-4c89-ed4a-90171391ad13"
      },
      "source": [
        "x = np.array([[1.0, 0.8, 0.1], [0.3, 0.1, 0.6], [0.2, 0.5, 0.3], [0.8, 0.1, 0.1]])\n",
        "\n",
        "y = np.argmax(x, axis = 1)\n",
        "\n",
        "print(y)"
      ],
      "execution_count": 67,
      "outputs": [
        {
          "output_type": "stream",
          "text": [
            "[0 2 1 0]\n"
          ],
          "name": "stdout"
        }
      ]
    },
    {
      "cell_type": "code",
      "metadata": {
        "colab": {
          "base_uri": "https://localhost:8080/"
        },
        "id": "IcLWcNdgM5wT",
        "outputId": "78842b5c-695b-433e-ad90-3035c0497b3f"
      },
      "source": [
        "y = np.array([1, 2, 1, 0])\n",
        "t = np.array([1, 2, 0, 0])\n",
        "print(y == t)\n",
        "\n",
        "np.sum(y == t)"
      ],
      "execution_count": 68,
      "outputs": [
        {
          "output_type": "stream",
          "text": [
            "[ True  True False  True]\n"
          ],
          "name": "stdout"
        },
        {
          "output_type": "execute_result",
          "data": {
            "text/plain": [
              "3"
            ]
          },
          "metadata": {
            "tags": []
          },
          "execution_count": 68
        }
      ]
    },
    {
      "cell_type": "markdown",
      "metadata": {
        "id": "VBlCMXYuO0kx"
      },
      "source": [
        "##**Conclusion**\n",
        "\n",
        "Here, we looked up the neural network's forward propagation. The neural network in this chapter is same with the perceptron in the feature of each layers' neuron propagating the signal to the next layer's neurons. However there were big difference of **Activation Function** through the signal propagates to next neuron. We used neural network's activation function as Sigmoid that is smoothly changing, on the other hand, at the perceptron we used activation function as Step function, which is suddenly changing.\n",
        "\n",
        "---\n",
        "- At the neural network, we use smoothly changing function like Sigmoid function or Relu as Activation function.\n",
        "- we can implement neural network efficiently using numpy's multi dimensional array.\n",
        "- The problem of machine learning can be divided into two main parts, the \"Regression\" and \"Classification\".\n",
        "- As the output's activation function, regression tend to use 'identity function', and classification tend to use 'softmax function'.\n",
        "- At the classification, the number of output layer's neurons are set equal to the number of classes to classify.\n",
        "- A bundle of input data is called a \"batch\", we can get more fast results when we task inference in batches.\n",
        "---"
      ]
    },
    {
      "cell_type": "markdown",
      "metadata": {
        "id": "Mn-G6aXiQBiI"
      },
      "source": [
        "#**2. Training Neural Network**\n",
        "---"
      ]
    },
    {
      "cell_type": "code",
      "metadata": {
        "id": "o4_IbBp0USw7"
      },
      "source": [
        "def sum_squares_error(y, t):\n",
        "  return 0.5 * np.sum((y - t)**2)"
      ],
      "execution_count": 70,
      "outputs": []
    },
    {
      "cell_type": "code",
      "metadata": {
        "colab": {
          "base_uri": "https://localhost:8080/"
        },
        "id": "OwDXvIr8VI5R",
        "outputId": "2f0e3042-fff3-4a38-c896-dae33415e06f"
      },
      "source": [
        "t = [0,0,1,0,0,0,0,0,0,0]\n",
        "\n",
        "y = [0.1, 0.05, 0.6, 0.0, 0.05, 0.1, 0.0, 0.1, 0.0, 0.0]\n",
        "print(sum_squares_error(np.array(y), np.array(t)))\n",
        "\n",
        "y = [0.1, 0.05, 0.1, 0.0, 0.05, 0.1, 0.0, 0.6, 0.0, 0.0]\n",
        "print(sum_squares_error(np.array(y), np.array(t)))"
      ],
      "execution_count": 77,
      "outputs": [
        {
          "output_type": "stream",
          "text": [
            "0.09750000000000003\n",
            "0.5975\n"
          ],
          "name": "stdout"
        }
      ]
    },
    {
      "cell_type": "code",
      "metadata": {
        "id": "w-r84cKbWFYl"
      },
      "source": [
        "def cross_entropy_error(y, t):\n",
        "  delta = 1e-7\n",
        "  return -np.sum(t*np.log(y+delta))"
      ],
      "execution_count": 78,
      "outputs": []
    },
    {
      "cell_type": "code",
      "metadata": {
        "colab": {
          "base_uri": "https://localhost:8080/"
        },
        "id": "RVGqitZWWP28",
        "outputId": "8923f0e4-5ead-4a4c-e75b-50da8b572d47"
      },
      "source": [
        "t = [0,0,1,0,0,0,0,0,0,0]\n",
        "\n",
        "y = [0.1, 0.05, 0.6, 0.0, 0.05, 0.1, 0.0, 0.1, 0.0, 0.0]\n",
        "print(cross_entropy_error(np.array(y), np.array(t)))\n",
        "\n",
        "y = [0.1, 0.05, 0.1, 0.0, 0.05, 0.1, 0.0, 0.6, 0.0, 0.0]\n",
        "print(cross_entropy_error(np.array(y), np.array(t)))"
      ],
      "execution_count": 79,
      "outputs": [
        {
          "output_type": "stream",
          "text": [
            "0.510825457099338\n",
            "2.302584092994546\n"
          ],
          "name": "stdout"
        }
      ]
    },
    {
      "cell_type": "code",
      "metadata": {
        "colab": {
          "base_uri": "https://localhost:8080/"
        },
        "id": "z4YKb_PGWnmI",
        "outputId": "668bac70-45db-4084-afd1-51008633198d"
      },
      "source": [
        "#import sys, os\n",
        "#sys.path.append(os.pardir)\n",
        "import numpy as np\n",
        "from mnist import load_mnist #from dataset.mnist import load_mnist\n",
        "\n",
        "(x_train, t_train), (x_test, t_test) = load_mnist(normalize=True, one_hot_label=True)\n",
        "\n",
        "print(x_train.shape)\n",
        "print(t_train.shape)"
      ],
      "execution_count": 82,
      "outputs": [
        {
          "output_type": "stream",
          "text": [
            "(60000, 784)\n",
            "(60000, 10)\n"
          ],
          "name": "stdout"
        }
      ]
    },
    {
      "cell_type": "code",
      "metadata": {
        "id": "t_y_x6O2XFOV"
      },
      "source": [
        "train_size = x_train.shape[0]\n",
        "batch_size = 10\n",
        "batch_mask = np.random.choice(train_size, batch_size)\n",
        "x_batch = x_train[batch_mask]\n",
        "t_batch = t_train[batch_mask]"
      ],
      "execution_count": 84,
      "outputs": []
    },
    {
      "cell_type": "code",
      "metadata": {
        "colab": {
          "base_uri": "https://localhost:8080/"
        },
        "id": "NDGNH_NjXfy0",
        "outputId": "2582956d-705e-4b39-b426-012acc2764b9"
      },
      "source": [
        "#To help understanding mini batching\n",
        "np.random.choice(60000, 10)"
      ],
      "execution_count": 83,
      "outputs": [
        {
          "output_type": "execute_result",
          "data": {
            "text/plain": [
              "array([14042, 32130, 50888, 45485, 15815, 56148,   373,   312, 48673,\n",
              "       27216])"
            ]
          },
          "metadata": {
            "tags": []
          },
          "execution_count": 83
        }
      ]
    },
    {
      "cell_type": "code",
      "metadata": {
        "id": "5_aDOjGOXnzn"
      },
      "source": [
        ""
      ],
      "execution_count": null,
      "outputs": []
    }
  ]
}