{
  "nbformat": 4,
  "nbformat_minor": 0,
  "metadata": {
    "colab": {
      "name": "Deep Learning from Scratch [Perceptron to Training Neural Network].ipynb",
      "provenance": [],
      "collapsed_sections": []
    },
    "kernelspec": {
      "name": "python3",
      "display_name": "Python 3"
    },
    "language_info": {
      "name": "python"
    },
    "accelerator": "GPU"
  },
  "cells": [
    {
      "cell_type": "markdown",
      "metadata": {
        "id": "7BXBJs0b5VX3"
      },
      "source": [
        "#Deep Learning from Scratch\n",
        "###Written by Steve Ive\n",
        "https://www.github.com/steveive108\n",
        "\n",
        "This document is written basis on the book \"Deep Learning from Scratch\". The content is translated and organized basis on the book. This document is for study, so feel free to feedback and create issues and pull requests. Thx:)\n",
        "\n",
        "https://github.com/steveive108/Study-Deep-Learning-from-scratch"
      ]
    },
    {
      "cell_type": "markdown",
      "metadata": {
        "id": "HQvSUkfrlvCT"
      },
      "source": [
        "#**0. Perceptron**\n",
        "---\n",
        "The Core of Deep Learning, as an unit of each layer of deep learning\n",
        "\n",
        "- 2 input perceptron\n",
        "> y = 0 | (w1x1 + w2x2 <= thetha)\n",
        "\n",
        "  > y = 1 | (w1x1 + w2x2 > thetha)\n",
        "- Perceptron's signal can only has two value of 0 or 1\n",
        "\n",
        "- Perceptron is one kind of algorithm, that has input and output. It print specific value by stated rule from its input\n",
        "\n",
        "- Perceptron set 'weight' and 'bias' as parameter\n",
        "- Perceptron can express logic circuit such as AND, OR gate etc.\n",
        "- 1 layer Perceptron cannot express XOR gate.\n",
        "- 2 layer Perceptron can express XOR gate.\n",
        "- 1 layer Perceptron can only express linear area,  multi layer Perceptron can express non-linear area\n",
        "- multi layer Perceptron can express computer theoritically."
      ]
    },
    {
      "cell_type": "markdown",
      "metadata": {
        "id": "myh4xLuRmqMA"
      },
      "source": [
        "##**0-1. 1 Layer Perceptron**\n",
        "---\n",
        "1 Layer Perceptron cannot form the XOR GATE. - the limitation of 1 layer perceptron and needness of multi-layer perceptron\n",
        "\n",
        "It can also be seen as linear function\n"
      ]
    },
    {
      "cell_type": "markdown",
      "metadata": {
        "id": "mjjXgBX5mFKp"
      },
      "source": [
        "###**AND GATE**"
      ]
    },
    {
      "cell_type": "code",
      "metadata": {
        "id": "kIa2wFF9llgl"
      },
      "source": [
        "def AND(x1, x2):\n",
        "  w1, w2, theta = 0.5, 0.5, 0.7\n",
        "  tmp = x1 * w1 + x2 * w2\n",
        "  if tmp <= theta:\n",
        "    return 0\n",
        "  elif tmp > theta:\n",
        "    return 1\n",
        "\n",
        "#ADD bias and Tune to get array\n",
        "\n",
        "def AND(x1, x2):\n",
        "  x = np.array([x1, x2])\n",
        "  w = np.array([0.5, 0.5])\n",
        "  b = -0.7\n",
        "  tmp = np.sum(w*x) + b\n",
        "  if tmp <= 0:\n",
        "    return 0\n",
        "  else:\n",
        "    return 1"
      ],
      "execution_count": 1,
      "outputs": []
    },
    {
      "cell_type": "markdown",
      "metadata": {
        "id": "3zYinSTQm3yZ"
      },
      "source": [
        "###**NAND GATE**"
      ]
    },
    {
      "cell_type": "code",
      "metadata": {
        "id": "XJetmJtAm69v"
      },
      "source": [
        "def NAND(x1, x2):\n",
        "  x = np.array([x1, x2])\n",
        "  w = np.array([-0.5, -0.5])\n",
        "  b = -0.7\n",
        "  tmp = np.sum(w*x) + b\n",
        "  if tmp <= 0:\n",
        "    return 0\n",
        "  else:\n",
        "    return 1"
      ],
      "execution_count": 2,
      "outputs": []
    },
    {
      "cell_type": "markdown",
      "metadata": {
        "id": "I0T-F9DUmIiG"
      },
      "source": [
        "###**OR GATE**"
      ]
    },
    {
      "cell_type": "code",
      "metadata": {
        "id": "BMhZlhR7mIJq"
      },
      "source": [
        "def OR(x1, x2):\n",
        "  x = np.array([x1, x2])\n",
        "  w = np.array([0.5, 0.5])\n",
        "  b = -0.2\n",
        "  tmp = np.sum(w*x) + b\n",
        "  if tmp <= 0:\n",
        "    return 0\n",
        "  else:\n",
        "    return 1"
      ],
      "execution_count": 3,
      "outputs": []
    },
    {
      "cell_type": "markdown",
      "metadata": {
        "id": "u28XaJF_oOqp"
      },
      "source": [
        "##**0-2. Multi Layer Perceptron**\n",
        "---\n",
        "Multi-layer perceptron can form the XOR GATE.\n",
        "\n",
        "It means that it can be seen as non-linear function"
      ]
    },
    {
      "cell_type": "markdown",
      "metadata": {
        "id": "sA6IjSVppHNL"
      },
      "source": [
        "###**XOR GATE**\n",
        "The combination of NAND GATE, OR GATE, AND GATE"
      ]
    },
    {
      "cell_type": "code",
      "metadata": {
        "id": "86oRXMRhofAx"
      },
      "source": [
        "def XOR(x1, x2):\n",
        "  s1 = NAND(x1, x2)\n",
        "  s2 = OR(x1, x2)\n",
        "  y = AND(s1, s2)\n",
        "  return y"
      ],
      "execution_count": 4,
      "outputs": []
    },
    {
      "cell_type": "markdown",
      "metadata": {
        "id": "OZRbZPQOtDyw"
      },
      "source": [
        "---\n",
        "---"
      ]
    },
    {
      "cell_type": "markdown",
      "metadata": {
        "id": "uoxoEQPyrHdM"
      },
      "source": [
        "#**1. Neural Network**\n",
        "---\n",
        "- At the neural network, we use smoothly changing function like Sigmoid function or Relu as Activation function.\n",
        "- we can implement neural network efficiently using numpy's multi dimensional array.\n",
        "- The problem of machine learning can be divided into two main parts, the \"Regression\" and \"Classification\".\n",
        "- As the output's activation function, regression tend to use 'identity function', and classification tend to use 'softmax function'.\n",
        "- At the classification, the number of output layer's neurons are set equal to the number of classes to classify.\n",
        "- A bundle of input data is called a \"batch\", we can get more fast results when we task inference in batches.\n"
      ]
    },
    {
      "cell_type": "markdown",
      "metadata": {
        "id": "oMH1jkvcrSDN"
      },
      "source": [
        "##**1-1. Activation Function**\n",
        "\n",
        "**Non Linear Function vs Linear Function**\n",
        "- Both step function and sigmoid function is 'non linear function'\n",
        "- if output change as much as input's constant, it called 'linear function'.\n",
        "- if we use linear function as activation function, it is useless to make layers deep."
      ]
    },
    {
      "cell_type": "markdown",
      "metadata": {
        "id": "-zeyH9lzrO-g"
      },
      "source": [
        "###**Step Function**"
      ]
    },
    {
      "cell_type": "code",
      "metadata": {
        "id": "uadCvCm9rK5w"
      },
      "source": [
        "def step_function(x):\n",
        "  if x > 0:\n",
        "    return 1\n",
        "\n",
        "#tune to get np.array\n",
        "\n",
        "def step_function(x):\n",
        "  y = x > 0\n",
        "  return y.asytpe(np.int)"
      ],
      "execution_count": 5,
      "outputs": []
    },
    {
      "cell_type": "markdown",
      "metadata": {
        "id": "c5RsLxRZtoot"
      },
      "source": [
        "###**Graph of step function**"
      ]
    },
    {
      "cell_type": "code",
      "metadata": {
        "colab": {
          "base_uri": "https://localhost:8080/",
          "height": 263
        },
        "id": "aOi4vjYTtreF",
        "outputId": "41be2ae6-da4d-47c3-9fec-c69a4b2eb34d"
      },
      "source": [
        "import numpy as np\n",
        "import matplotlib.pylab as plt\n",
        "\n",
        "def step_function(x):\n",
        "  return np.array(x > 0, dtype=np.int)\n",
        "\n",
        "x = np.arange(-5.0, 5.0, 0.1)\n",
        "y = step_function(x)\n",
        "plt.plot(x, y)\n",
        "plt.ylim(-0.1, 1.1) # range of axis y\n",
        "plt.show()"
      ],
      "execution_count": 6,
      "outputs": [
        {
          "output_type": "display_data",
          "data": {
            "image/png": "[encoded data removed]",
            "text/plain": [
              "<Figure size 432x288 with 1 Axes>"
            ]
          },
          "metadata": {
            "tags": [],
            "needs_background": "light"
          }
        }
      ]
    },
    {
      "cell_type": "markdown",
      "metadata": {
        "id": "75rafG0IB-dG"
      },
      "source": [
        "###**Sigmoid Function**"
      ]
    },
    {
      "cell_type": "code",
      "metadata": {
        "id": "grgpSPPVCCHa"
      },
      "source": [
        "def sigmoid(x):\n",
        "  return 1 / (1 + np.exp(-x))"
      ],
      "execution_count": 7,
      "outputs": []
    },
    {
      "cell_type": "markdown",
      "metadata": {
        "id": "SGEH6POhCLu2"
      },
      "source": [
        "###**Graph of sigmoid function**"
      ]
    },
    {
      "cell_type": "code",
      "metadata": {
        "colab": {
          "base_uri": "https://localhost:8080/",
          "height": 263
        },
        "id": "_CJ6H1ZkCR7d",
        "outputId": "fdc5dcd5-d91b-4503-9774-8a0d1c99091f"
      },
      "source": [
        "x = np.arange(-5.0, 5.0, 0.1)\n",
        "y = sigmoid(x)\n",
        "plt.plot(x, y)\n",
        "plt.ylim(-0.1, 1.1)\n",
        "plt.show()"
      ],
      "execution_count": 8,
      "outputs": [
        {
          "output_type": "display_data",
          "data": {
            "image/png": "[encoded data removed]",
            "text/plain": [
              "<Figure size 432x288 with 1 Axes>"
            ]
          },
          "metadata": {
            "tags": [],
            "needs_background": "light"
          }
        }
      ]
    },
    {
      "cell_type": "markdown",
      "metadata": {
        "id": "CREidUApCnq9"
      },
      "source": [
        "###**RELU Function**\n",
        "\n",
        "h(x) = \n",
        "\n",
        "x (x > 0)\n",
        "\n",
        "0 (x <= 0)"
      ]
    },
    {
      "cell_type": "code",
      "metadata": {
        "id": "b1Vx_5cyDubB"
      },
      "source": [
        "def relu(x):\n",
        "  return np.maximum(0, x)"
      ],
      "execution_count": 9,
      "outputs": []
    },
    {
      "cell_type": "markdown",
      "metadata": {
        "id": "PVFOISOND2oL"
      },
      "source": [
        "###**Graph of Relu Function**"
      ]
    },
    {
      "cell_type": "code",
      "metadata": {
        "colab": {
          "base_uri": "https://localhost:8080/",
          "height": 263
        },
        "id": "a_6kgnD0D7N3",
        "outputId": "8007b4dd-37fc-4921-b947-d46c6fdf36d9"
      },
      "source": [
        "x = np.arange(-5.0, 5.0, 0.1)\n",
        "y = relu(x)\n",
        "plt.plot(x, y)\n",
        "plt.ylim(-0.1, 1.1)\n",
        "plt.show()"
      ],
      "execution_count": 10,
      "outputs": [
        {
          "output_type": "display_data",
          "data": {
            "image/png": "[encoded data removed]",
            "text/plain": [
              "<Figure size 432x288 with 1 Axes>"
            ]
          },
          "metadata": {
            "tags": [],
            "needs_background": "light"
          }
        }
      ]
    },
    {
      "cell_type": "markdown",
      "metadata": {
        "id": "S4GSAxeREcV4"
      },
      "source": [
        "##**1-2. Multi Dimension Array**\n",
        "if numbers are listed as one line, or rectangle or 3 dimension, further to N dimension, we call it 'Mutli Dimension Array'.\n",
        "\n",
        "- **np.ndim(Array)**: \n",
        "check the dimension of array\n",
        "\n",
        "- **Array.shape**:\n",
        "check the shape of array (**return tuple**)\n",
        "\n",
        "- **Array.shape[0]**: check amount of numbers in the first dimension(index is zero)"
      ]
    },
    {
      "cell_type": "code",
      "metadata": {
        "colab": {
          "base_uri": "https://localhost:8080/"
        },
        "id": "x2jdphWhEgk-",
        "outputId": "68714834-27a3-456c-e6c7-fadecc8c85de"
      },
      "source": [
        "# 1 Dimension Array\n",
        "import numpy as np\n",
        "A = np.array([1,2,3,4])\n",
        "\n",
        "np.ndim(A)\n",
        "\n",
        "A.shape\n",
        "A.shape[0]\n",
        "\n",
        "# 2 Dimension Array\n",
        "B = np.array([[1,2], [3,4], [5,6]])\n",
        "print(B)\n",
        "\n",
        "np.ndim(B)\n",
        "\n",
        "B.shape"
      ],
      "execution_count": 11,
      "outputs": [
        {
          "output_type": "stream",
          "text": [
            "[[1 2]\n",
            " [3 4]\n",
            " [5 6]]\n"
          ],
          "name": "stdout"
        },
        {
          "output_type": "execute_result",
          "data": {
            "text/plain": [
              "(3, 2)"
            ]
          },
          "metadata": {
            "tags": []
          },
          "execution_count": 11
        }
      ]
    },
    {
      "cell_type": "markdown",
      "metadata": {
        "id": "AAknVa2dGkQp"
      },
      "source": [
        "###**Dot Product of Matrix**\n",
        "\n",
        "- **np.dot(A, B)**: dot product of matrix"
      ]
    },
    {
      "cell_type": "code",
      "metadata": {
        "colab": {
          "base_uri": "https://localhost:8080/"
        },
        "id": "H8gPfExFGwrt",
        "outputId": "99f3ffb5-0764-4bad-a892-2e83b78d6cff"
      },
      "source": [
        "# 2X2 Matrix dot product\n",
        "A = np.array([[1,2], [3,4]])\n",
        "A.shape\n",
        "\n",
        "B = np.array([[5,6], [7,8]])\n",
        "B.shape\n",
        "\n",
        "np.dot(A, B)\n",
        "\n",
        "# 3X3 Matrix dot product with 3X2 Matrix \n",
        "A = np.array([[1,2,3], [4,5,6]])\n",
        "A.shape\n",
        "B = np.array([[1,2], [3,4], [5,6]])\n",
        "B.shape\n",
        "np.dot(A, B)\n",
        "\n",
        "# 3X2 Matrix dot product with 2X1 Matrix\n",
        "A = np.array([[1,2], [3,4], [5,6]])\n",
        "A.shape\n",
        "B = np.array([7,8])\n",
        "B.shape\n",
        "np.dot(A, B)"
      ],
      "execution_count": 12,
      "outputs": [
        {
          "output_type": "execute_result",
          "data": {
            "text/plain": [
              "array([23, 53, 83])"
            ]
          },
          "metadata": {
            "tags": []
          },
          "execution_count": 12
        }
      ]
    },
    {
      "cell_type": "markdown",
      "metadata": {
        "id": "-jn0V5aWJJkR"
      },
      "source": [
        "##**1-3. Matrix Dot Product in Neural Network**\n",
        "\n",
        "Dot Product in Neural Network can be said as 'Results indicating set of weighted sum of nodes in previous layer, each edge is one kind of Broad Casting from node to each set of weights that is indicated to the node'\n",
        "\n",
        "Or, we could say some kind of converter, which return the constraint number of output from constraint number of input with the multiplying of each weighted edges."
      ]
    },
    {
      "cell_type": "code",
      "metadata": {
        "colab": {
          "base_uri": "https://localhost:8080/"
        },
        "id": "qk7aTrswLrXQ",
        "outputId": "8aba2ed2-ba5f-4cda-f050-b9a0a2d69361"
      },
      "source": [
        "# form of X, Y, W\n",
        "\n",
        "X = np.array([1, 2])\n",
        "X.shape\n",
        "\n",
        "W = np.array([[1,3,5], [2,4,6]])\n",
        "print(W)\n",
        "\n",
        "W.shape\n",
        "Y = np.dot(X, W)\n",
        "print(Y)"
      ],
      "execution_count": 13,
      "outputs": [
        {
          "output_type": "stream",
          "text": [
            "[[1 3 5]\n",
            " [2 4 6]]\n",
            "[ 5 11 17]\n"
          ],
          "name": "stdout"
        }
      ]
    },
    {
      "cell_type": "markdown",
      "metadata": {
        "id": "cl7azlFQM-sA"
      },
      "source": [
        "##**1-4. Create 3 Layer Neural Network**"
      ]
    },
    {
      "cell_type": "markdown",
      "metadata": {
        "id": "Fr3dAHhON6t5"
      },
      "source": [
        "###**0(Input) Layer to 1 Layer**\n",
        "\n",
        " A(1) = XW(1) + B(1)\n",
        "\n",
        "Z(1) = Sigmoid(A1)"
      ]
    },
    {
      "cell_type": "code",
      "metadata": {
        "colab": {
          "base_uri": "https://localhost:8080/"
        },
        "id": "UPA8ebF3NONc",
        "outputId": "d0ebaa16-26fd-478e-ca87-c1aa52eccfdf"
      },
      "source": [
        "X = np.array([1.0, 0.5])\n",
        "W1 = np.array([[0.1, 0.3, 0.5], [0.2, 0.4, 0.6]])\n",
        "B1 = np.array([0.1, 0.2, 0.3])\n",
        "\n",
        "print(W1.shape)\n",
        "print(X.shape)\n",
        "print(B1.shape)\n",
        "\n",
        "A1 = np.dot(X, W1) + B1"
      ],
      "execution_count": 14,
      "outputs": [
        {
          "output_type": "stream",
          "text": [
            "(2, 3)\n",
            "(2,)\n",
            "(3,)\n"
          ],
          "name": "stdout"
        }
      ]
    },
    {
      "cell_type": "markdown",
      "metadata": {
        "id": "O0n3TL9l0Pwg"
      },
      "source": [
        "####**convert signal with sigmoid**\n",
        "\n",
        "**h(A) = Z**"
      ]
    },
    {
      "cell_type": "code",
      "metadata": {
        "colab": {
          "base_uri": "https://localhost:8080/"
        },
        "id": "Hr5pbcQ3N0cJ",
        "outputId": "6701f422-9e7c-4deb-bafe-defdffb2749c"
      },
      "source": [
        "Z1 = sigmoid(A1)\n",
        "\n",
        "print(A1)\n",
        "print(Z1)"
      ],
      "execution_count": 15,
      "outputs": [
        {
          "output_type": "stream",
          "text": [
            "[0.3 0.7 1.1]\n",
            "[0.57444252 0.66818777 0.75026011]\n"
          ],
          "name": "stdout"
        }
      ]
    },
    {
      "cell_type": "markdown",
      "metadata": {
        "id": "iEREt_zI0xlM"
      },
      "source": [
        "###**Layer 1 to Layer 2**\n",
        "\n",
        "A(2) = XW(2) + B(2)\n",
        "\n",
        "Z2 = Sigmoid(A(2))"
      ]
    },
    {
      "cell_type": "code",
      "metadata": {
        "colab": {
          "base_uri": "https://localhost:8080/"
        },
        "id": "_iYw_tkD1hAT",
        "outputId": "2a72ddcf-22ee-449a-8b0c-9a104d3aee39"
      },
      "source": [
        "W2 = np.array([[0.1, 0.4], [0.2, 0.5], [0.3, 0.6]])\n",
        "B2 = np.array([0.1, 0.2])\n",
        "\n",
        "print(Z1.shape)\n",
        "print(W2.shape)\n",
        "print(B2.shape)\n",
        "\n",
        "A2 = np.dot(Z1, W2) + B2\n",
        "Z2 = sigmoid(A2)"
      ],
      "execution_count": 16,
      "outputs": [
        {
          "output_type": "stream",
          "text": [
            "(3,)\n",
            "(3, 2)\n",
            "(2,)\n"
          ],
          "name": "stdout"
        }
      ]
    },
    {
      "cell_type": "markdown",
      "metadata": {
        "id": "Pdb8Q7xZ2PGa"
      },
      "source": [
        "###**Layer2 to output Layer**\n",
        "\n",
        "A(3) = XW(3) + B(3)\n",
        "\n",
        "Y = identity_function(A(3))\n",
        "\n",
        "- **identity function**: return output using the input as is\n",
        "\n"
      ]
    },
    {
      "cell_type": "code",
      "metadata": {
        "colab": {
          "base_uri": "https://localhost:8080/"
        },
        "id": "h-OF1Wfs3H-F",
        "outputId": "9a222667-8c18-4605-ff16-296ce15c8ccc"
      },
      "source": [
        "def identity_function(x):\n",
        "  return x\n",
        "\n",
        "W3 = np.array([[0.1, 0.3], [0.2, 0.4]])\n",
        "B3 = np.array([0.1, 0.2])\n",
        "\n",
        "A3 = np.dot(Z2, W3) + B3\n",
        "Y = identity_function(A3) # Y = A3\n",
        "\n",
        "print(Y)"
      ],
      "execution_count": 17,
      "outputs": [
        {
          "output_type": "stream",
          "text": [
            "[0.31682708 0.69627909]\n"
          ],
          "name": "stdout"
        }
      ]
    },
    {
      "cell_type": "markdown",
      "metadata": {
        "id": "wSsH6mom3oVP"
      },
      "source": [
        "##**1-5. Conclusion of 3 layer Neural Network**"
      ]
    },
    {
      "cell_type": "code",
      "metadata": {
        "colab": {
          "base_uri": "https://localhost:8080/"
        },
        "id": "Sfm7GgdT3v4Y",
        "outputId": "2bed9079-c994-4900-dffa-7debc3a47a3c"
      },
      "source": [
        "def init_network():\n",
        "  network = {}\n",
        "  network['W1'] = np.array([[0.1, 0.3, 0.5], [ 0.2, 0.4, 0.5]])\n",
        "  network['b1'] = np.array([0.1, 0.2, 0.3])\n",
        "  network['W2'] = np.array([[0.1, 0.4], [0.2, 0.5], [0.3, 0.6]])\n",
        "  network['b2'] = np.array([0.1, 0.2])\n",
        "  network['W3'] = np.array([[0.1, 0.3], [0.2, 0.4]])\n",
        "  network['b3'] = np.array([0.1, 0.2])\n",
        "\n",
        "  return network\n",
        "\n",
        "def forward(network, x):\n",
        "  W1, W2, W3 = network['W1'], network['W2'], network['W3']\n",
        "  b1, b2, b3 = network['b1'], network['b2'], network['b3']\n",
        "\n",
        "  a1 = np.dot(x, W1) + b1\n",
        "  z1 = sigmoid(a1)\n",
        "  \n",
        "  a2 = np.dot(z1, W2) + b2\n",
        "  z2 = sigmoid(a2)\n",
        "\n",
        "  a3 = np.dot(z2, W3) + b3\n",
        "  y = identity_function(a3)\n",
        "\n",
        "  return y\n",
        "\n",
        "network = init_network()\n",
        "\n",
        "x = np.array([1.0, 0.5])\n",
        "y = forward(network, x)\n",
        "print(y)"
      ],
      "execution_count": 18,
      "outputs": [
        {
          "output_type": "stream",
          "text": [
            "[0.31655918 0.69567667]\n"
          ],
          "name": "stdout"
        }
      ]
    },
    {
      "cell_type": "markdown",
      "metadata": {
        "id": "6znDgjsA88tK"
      },
      "source": [
        "##**1-6. Create OutPut Layer**\n",
        "\n",
        "Neural Network can be used in both classificiation and regression. Therefore, The activation function vary to kinds of problem. Generally, ***regression*** problem uses **identity function** as activation function, and ***classifciation*** problem uses **softmax** as activation function.\n",
        "\n",
        "> Machine learning problem consist of 'Classification', 'Regression' ."
      ]
    },
    {
      "cell_type": "markdown",
      "metadata": {
        "id": "Emicb-Wo-m8H"
      },
      "source": [
        "####**Identity Function and Softmax Function**\n",
        "\n",
        "- **Identity Function**: a1 -> y1\n",
        "\n",
        "- **softmax Function**: y(k) = exp( a(k) ) / sum( exp( a(i) ) \n",
        "\n",
        "> (i=1 to k)\n",
        "\n",
        "- ***Identity Function output*** nodes get signal from the **each corresponding node** of previous layer, otherwise ***softmax function output*** nodes get signal from **all nodes** of previous layer. "
      ]
    },
    {
      "cell_type": "markdown",
      "metadata": {
        "id": "YjyVrke9AdDc"
      },
      "source": [
        "####**Softmax Function**"
      ]
    },
    {
      "cell_type": "code",
      "metadata": {
        "colab": {
          "base_uri": "https://localhost:8080/"
        },
        "id": "lVE1Dgd9-DpB",
        "outputId": "5160b8b2-9b2c-4442-d22a-89e10689dd3b"
      },
      "source": [
        "a = np.array([0.3, 2.9, 4.0])\n",
        "\n",
        "exp_a = np.exp(a)\n",
        "print(exp_a)\n",
        "\n",
        "sum_exp_a = np.sum(exp_a)\n",
        "print(sum_exp_a)\n",
        "\n",
        "y = exp_a / sum_exp_a\n",
        "print(y)"
      ],
      "execution_count": 19,
      "outputs": [
        {
          "output_type": "stream",
          "text": [
            "[ 1.34985881 18.17414537 54.59815003]\n",
            "74.1221542101633\n",
            "[0.01821127 0.24519181 0.73659691]\n"
          ],
          "name": "stdout"
        }
      ]
    },
    {
      "cell_type": "code",
      "metadata": {
        "id": "Vj1nKqDKA6pu"
      },
      "source": [
        "def softmax(a):\n",
        "  exp_a = np.exp(a)\n",
        "  sum_exp_a = np.sum(exp_a)\n",
        "\n",
        "  y = exp_a / sum_exp_a\n",
        "\n",
        "  return y"
      ],
      "execution_count": 20,
      "outputs": []
    },
    {
      "cell_type": "markdown",
      "metadata": {
        "id": "jMsxlHYUBcPn"
      },
      "source": [
        "####**Warning of implementing softmax function in python**\n",
        "\n",
        "When creating softmax function in python, there has a flaw called 'overflow'. softmax function is exponential function, which return the very large value. For example, exp(10) is over 20,000, exp(100) has 40 zeros, exp(1000) call 'inf' which means infinite. Also, when we divide with these large value, the result is unstable.\n",
        "\n",
        "> So we should reform the softmax function, using the max value from the input signal of softmax."
      ]
    },
    {
      "cell_type": "code",
      "metadata": {
        "colab": {
          "base_uri": "https://localhost:8080/"
        },
        "id": "E_ZpwkmCCTEU",
        "outputId": "19df95df-47b3-4bdf-87db-e950c4a86f79"
      },
      "source": [
        "#not functioning well\n",
        "a = np.array([1010, 1000, 990])\n",
        "np.exp(a) / np.sum(np.exp(a))"
      ],
      "execution_count": 21,
      "outputs": [
        {
          "output_type": "stream",
          "text": [
            "/usr/local/lib/python3.7/dist-packages/ipykernel_launcher.py:3: RuntimeWarning: overflow encountered in exp\n",
            "  This is separate from the ipykernel package so we can avoid doing imports until\n",
            "/usr/local/lib/python3.7/dist-packages/ipykernel_launcher.py:3: RuntimeWarning: invalid value encountered in true_divide\n",
            "  This is separate from the ipykernel package so we can avoid doing imports until\n"
          ],
          "name": "stderr"
        },
        {
          "output_type": "execute_result",
          "data": {
            "text/plain": [
              "array([nan, nan, nan])"
            ]
          },
          "metadata": {
            "tags": []
          },
          "execution_count": 21
        }
      ]
    },
    {
      "cell_type": "code",
      "metadata": {
        "colab": {
          "base_uri": "https://localhost:8080/"
        },
        "id": "LfeQhlPpCm7w",
        "outputId": "1f7d168e-a99d-480d-9643-b93c76b49f3e"
      },
      "source": [
        "#functioning well\n",
        "c = np.max(a)\n",
        "\n",
        "a - c\n",
        "\n",
        "np.exp(a - c) / sum(np.exp(a - c))"
      ],
      "execution_count": 22,
      "outputs": [
        {
          "output_type": "execute_result",
          "data": {
            "text/plain": [
              "array([9.99954600e-01, 4.53978686e-05, 2.06106005e-09])"
            ]
          },
          "metadata": {
            "tags": []
          },
          "execution_count": 22
        }
      ]
    },
    {
      "cell_type": "code",
      "metadata": {
        "id": "PqgtoiUUC8tf"
      },
      "source": [
        "#re generating softmax function\n",
        "\n",
        "def softmax(a):\n",
        "  c = np.max(a)\n",
        "  exp_a = np.exp(a - c)\n",
        "  sum_exp_a = np.sum(exp_a)\n",
        "\n",
        "  y= exp_a / sum_exp_a\n",
        "\n",
        "  return y"
      ],
      "execution_count": 23,
      "outputs": []
    },
    {
      "cell_type": "markdown",
      "metadata": {
        "id": "bMvxoWmaDNPG"
      },
      "source": [
        "####**The Feature of softmax function**\n",
        "\n",
        "The feature of the softmax function is its sum of output is 1. This is one of the important feature of softmax function."
      ]
    },
    {
      "cell_type": "code",
      "metadata": {
        "colab": {
          "base_uri": "https://localhost:8080/"
        },
        "id": "g0qdcSY9De_P",
        "outputId": "08d2e072-a995-4c28-ac7d-71f711faf3c6"
      },
      "source": [
        "a = np.array([0.3, 2.9, 4.0])\n",
        "y = softmax(a)\n",
        "print(y)\n",
        "\n",
        "np.sum(y)"
      ],
      "execution_count": 24,
      "outputs": [
        {
          "output_type": "stream",
          "text": [
            "[0.01821127 0.24519181 0.73659691]\n"
          ],
          "name": "stdout"
        },
        {
          "output_type": "execute_result",
          "data": {
            "text/plain": [
              "1.0"
            ]
          },
          "metadata": {
            "tags": []
          },
          "execution_count": 24
        }
      ]
    },
    {
      "cell_type": "markdown",
      "metadata": {
        "id": "pMc00BRPEC9g"
      },
      "source": [
        "####**On the basis of this feature, We can explain softmax as \"Probability\"**\n",
        "\n",
        "- y[0]'s possibility: 0.018(1.8%)\n",
        "- y[1]'s possibility: 0.245(24.5%)\n",
        "- y[2]'s possibility: 0.737(73.7%)\n",
        "\n",
        "####**We can predict the answer is 'class 2', since the output possibility of second index is the largest.**\n",
        "\n",
        "####**For the important thing, each large-small relationship between elements does not change after adopting softmax.**\n",
        "\n",
        "> **softmax: y = exp(x) is monotic increasing function.**\n",
        "\n",
        "####**Classification using neural network generally only recognize the largest output value node. As a result, when we inference the classification task with neural network, we tend to omit the softmax generally to reduce the resource to calculate the exponential function. However, we should use softmax function when we train the neural network.**\n",
        "\n",
        "> Solving Machine learning problem goes through two stages, which are the 'Train' and 'Inference'. After training the neural network, we task inference with the unseen data."
      ]
    },
    {
      "cell_type": "markdown",
      "metadata": {
        "id": "-G2ATJ2otA5X"
      },
      "source": [
        "####**Each Output's neuron indicates the corresponding class**\n",
        "\n",
        "For Example, we can create y0 to y9 node in output layer, that indicating each number 0 to 9."
      ]
    },
    {
      "cell_type": "markdown",
      "metadata": {
        "id": "165-ueOqtXFZ"
      },
      "source": [
        "##**1-7. Hand digit Recognition**\n",
        "Let's build only inference task without training with pre-trained weights. \n",
        "\n",
        "The inference task is called \"Propagation\".\n",
        "\n",
        "> As same with machine learning, the deep learning also solve problem through two steps, first, train the weights with train dataset, second, at the inference step uses the trained weights to classify the input data."
      ]
    },
    {
      "cell_type": "markdown",
      "metadata": {
        "id": "hCTyCK4wwLKk"
      },
      "source": [
        "####**MNIST DATASET**\n",
        "> MNIST data is one of the famous dataset in machine learning that consist of hand written digit. It is used in various field from simple research to paper research. You would find mnist dataset in many image recognize paper or machine learning paper as test dataset.\n",
        "\n",
        "> MNIST dataset consist of number from 0 to 9.\n",
        "\n",
        "- 60000 train image : train the model\n",
        "- 10000 test image : evaluate the model\n",
        "\n",
        "> MNIST image data is gray scaled 28 x 28 image, which is 1 channel.\n",
        "Each pixel takes 0 to 255, with the labeled of corresponding number such as '7', '1', '0'.\n"
      ]
    },
    {
      "cell_type": "code",
      "metadata": {
        "id": "nO6fF-HcGi6x",
        "colab": {
          "base_uri": "https://localhost:8080/"
        },
        "outputId": "4d478324-872a-4ae6-fe61-a4207a9f40b3"
      },
      "source": [
        "#load mnist dataset from mnist.py\n",
        "\n",
        "#import sys, os\n",
        "#sys.path.append(os.pardir) #set to get the file of parent directory\n",
        "%cd '/content/drive/MyDrive/'\n",
        "!pwd\n",
        "from mnist import load_mnist\n",
        "\n",
        "(x_train, t_train), (x_test, t_test) = load_mnist(flatten=True, normalize=True) #first takes few minuites"
      ],
      "execution_count": 25,
      "outputs": [
        {
          "output_type": "stream",
          "text": [
            "/content/drive/MyDrive\n",
            "/content/drive/MyDrive\n"
          ],
          "name": "stdout"
        }
      ]
    },
    {
      "cell_type": "code",
      "metadata": {
        "colab": {
          "base_uri": "https://localhost:8080/"
        },
        "id": "hSdBNayZ8BU8",
        "outputId": "95f6a2e9-4457-4ef5-c5f2-b676e179ba34"
      },
      "source": [
        "print(x_train.shape)\n",
        "print(t_train.shape)\n",
        "print(x_test.shape)\n",
        "print(t_test.shape)"
      ],
      "execution_count": 26,
      "outputs": [
        {
          "output_type": "stream",
          "text": [
            "(60000, 784)\n",
            "(60000,)\n",
            "(10000, 784)\n",
            "(10000,)\n"
          ],
          "name": "stdout"
        }
      ]
    },
    {
      "cell_type": "markdown",
      "metadata": {
        "id": "qhQUw3yp-EgS"
      },
      "source": [
        "####**Show image**\n",
        "\n",
        "`flatten=True` makes image data as 1 dimension array, we should reshape it 2 dimension of 28 x 28.\n",
        "\n",
        "Also, image data that is saved of numpy should be converted PIL data object, this task is converted by `Image.fromarray()`"
      ]
    },
    {
      "cell_type": "code",
      "metadata": {
        "colab": {
          "base_uri": "https://localhost:8080/"
        },
        "id": "DmrpsJJa9Nly",
        "outputId": "1e0734c3-33e4-4420-b72c-8b20c68e73d6"
      },
      "source": [
        "import numpy as np\n",
        "from mnist import load_mnist\n",
        "from PIL import Image\n",
        "\n",
        "def img_show(img):\n",
        "  pil_img = Image.fromarray(np.uint8(img))\n",
        "  pil_img.show()\n",
        "\n",
        "(x_train, t_train), (x_test, t_test) = load_mnist(flatten=True, normalize=True)\n",
        "\n",
        "img = x_train[0]\n",
        "label = t_train[0]\n",
        "print(label)#5\n",
        "\n",
        "print(img.shape)\n",
        "img = img.reshape(28, 28)\n",
        "print(img.shape)\n",
        "\n",
        "img_show(img)"
      ],
      "execution_count": 27,
      "outputs": [
        {
          "output_type": "stream",
          "text": [
            "5\n",
            "(784,)\n",
            "(28, 28)\n"
          ],
          "name": "stdout"
        }
      ]
    },
    {
      "cell_type": "markdown",
      "metadata": {
        "id": "-eP_Zyl0_yrs"
      },
      "source": [
        "###**Inference MNIST with neural network**\n",
        "\n",
        "- input layer and output layer\n",
        "\n",
        "> input layer has 784 neurons (28 x 28 = 784)\n",
        "\n",
        "> output layer has 10 neurons\n",
        "\n",
        "- total 2 hidden layers\n",
        "\n",
        "> layer 1 has 50 neurons(arbitrary)\n",
        "\n",
        "> layer 2 has 100 neurons(arbitrary)\n",
        "\n",
        "- sample_weight.pkl has trained weights\n",
        "\n"
      ]
    },
    {
      "cell_type": "code",
      "metadata": {
        "id": "8mH5srz1Afbd"
      },
      "source": [
        "import pickle\n",
        "\n",
        "def get_data():\n",
        "  (x_train, t_train), (x_test, t_test) = load_mnist(flatten=True, normalize=True, one_hot_label=False)\n",
        "  return x_test, t_test\n",
        "\n",
        "def init_network():\n",
        "  with open(\"sample_weight.pkl\", \"rb\") as f:\n",
        "    network = pickle.load(f)\n",
        "\n",
        "  return network\n",
        "\n",
        "def predict(network, x):\n",
        "  W1, W2, W3 = network['W1'], network['W2'], network['W3']\n",
        "  b1, b2, b3 = network['b1'], network['b2'], network['b3']\n",
        "\n",
        "  a1 = np.dot(x, W1) + b1\n",
        "  z1 = sigmoid(a1)\n",
        "\n",
        "  a2 = np.dot(z1, W2) + b2\n",
        "  z2 = sigmoid(a2)\n",
        "\n",
        "  a3 = np.dot(z2, W3) + b3\n",
        "  y= softmax(a3)\n",
        "\n",
        "  return y"
      ],
      "execution_count": 28,
      "outputs": []
    },
    {
      "cell_type": "markdown",
      "metadata": {
        "id": "poG9qsqMBvi5"
      },
      "source": [
        "###**Execute Inference and Check Accuracy**\n",
        "\n",
        "- get image one by one and classify by `predict()`\n",
        "- `predict()` function return each label's probability into numpy\n",
        "- select the largest probability index in array\n",
        "- compare with the answer label index with the selected index\n",
        "\n",
        "- count the accuracty_cnt and divide by the number of images in dataset.\n",
        "- Acurracy: 0.9352"
      ]
    },
    {
      "cell_type": "code",
      "metadata": {
        "colab": {
          "base_uri": "https://localhost:8080/"
        },
        "id": "ZV4JhypeBvSc",
        "outputId": "9934bc67-463d-46da-af7d-f12788ef0306"
      },
      "source": [
        "x, t = get_data()\n",
        "network = init_network()\n",
        "\n",
        "accuracy_cnt = 0\n",
        "for i in range((len(x))):\n",
        "  y = predict(network, x[i])\n",
        "  p = np.argmax(y) # select the index most largest probability\n",
        "  if p == t[i]:\n",
        "    accuracy_cnt += 1\n",
        "\n",
        "print('Accuracy:', str(float(accuracy_cnt) / len(x)))"
      ],
      "execution_count": 29,
      "outputs": [
        {
          "output_type": "stream",
          "text": [
            "Accuracy: 0.9352\n"
          ],
          "name": "stdout"
        }
      ]
    },
    {
      "cell_type": "markdown",
      "metadata": {
        "id": "R4MHvj1GEMvS"
      },
      "source": [
        "###**Pre-Processing**\n",
        "\n",
        "At the `load_mnist()` we set `normalize=True`, which means that the range of each pixels which is 0 ~ 255, is converted to range of 0.0~0.1. (Divide pixels value by 255)\n",
        "\n",
        "> Like this, the processing that is converting data to specific range is called **\"Normalization**, the behavior that push specific task to input data is called **\"Pre-Processing\"** in Neural network.\n",
        "\n",
        "> Here we've done Normalize as Pre-Processing.\n",
        "\n",
        "> Neural Network uses pre-processing very frequently since the data pre-processing improves identifying ability and training speed. At the real work, it is more often to use pre-processing with considering with whole data distribution. For example, using the data's mean and standard deviation, we can shift the data either limit the range to distribute it to make center of 0. Besides, there are data \"whitening\", which is distributing whole data equally."
      ]
    },
    {
      "cell_type": "markdown",
      "metadata": {
        "id": "zCl4dGsGGIyq"
      },
      "source": [
        "###**Batch**\n",
        "Let's review the input data and weight parameter again pay attention to its 'shape'."
      ]
    },
    {
      "cell_type": "code",
      "metadata": {
        "colab": {
          "base_uri": "https://localhost:8080/"
        },
        "id": "ZVt1cULkKtWw",
        "outputId": "b3eb82f6-2f1c-4294-fc41-d997ef7e95a1"
      },
      "source": [
        "#print the shape of weights of each layer\n",
        "\n",
        "x, _ = get_data()\n",
        "network = init_network()\n",
        "W1, W2, W3 = network['W1'], network['W2'], network['W3']\n",
        "\n",
        "print(x.shape)\n",
        "print(x[0].shape)\n",
        "print(W1.shape)\n",
        "print(W2.shape)\n",
        "print(W3.shape)"
      ],
      "execution_count": 30,
      "outputs": [
        {
          "output_type": "stream",
          "text": [
            "(10000, 784)\n",
            "(784,)\n",
            "(784, 50)\n",
            "(50, 100)\n",
            "(100, 10)\n"
          ],
          "name": "stdout"
        }
      ]
    },
    {
      "cell_type": "markdown",
      "metadata": {
        "id": "AFf6zc0hQXek"
      },
      "source": [
        "At the result, we can find the multi dimensional array's corresponding dimension's number of elements are corresponding.\n",
        "\n",
        ">  When one image is entered\n",
        "\n",
        "> --X--------W1--------     W2-------      W2-----> Y\n",
        "\n",
        "> 784-------784x50------50x100-----100x10--------10\n",
        "\n",
        "\n",
        "> when multi images are entered (hand over 100 images at one time to `predict()` in batch) => we can express 100 images of data as one input data.\n",
        "\n",
        "> -----X---------W1--------     W2-------      W2----------> Y\n",
        "\n",
        "> 100x784-------784x50------50x100-----100x10--------100x10\n",
        "\n",
        "As we can see the shape of input data is 100x784, the shape of output data is 100x10. It means the batch of the 100 images input data's result returned at once.\n",
        "\n",
        "Like this, the data that is tied up with one set is called **'Batch'**."
      ]
    },
    {
      "cell_type": "markdown",
      "metadata": {
        "id": "vabdrdbpTPuW"
      },
      "source": [
        "####**Implementing the Batch Processing**\n",
        "The marked below is the changes compared to above\n",
        "\n"
      ]
    },
    {
      "cell_type": "code",
      "metadata": {
        "colab": {
          "base_uri": "https://localhost:8080/"
        },
        "id": "UWU-8uteLdai",
        "outputId": "f46c4a10-1ee3-4a10-da69-3489f519b8a8"
      },
      "source": [
        "x, t = get_data()\n",
        "network = init_network()\n",
        "\n",
        "batch_size = 100 #added\n",
        "accuracy_cnt = 0\n",
        "\n",
        "for i in range(0, len(x), batch_size): #changed\n",
        "  x_batch = x[i:i+batch_size]#changed\n",
        "  y_batch = predict(network, x_batch)#changed\n",
        "  p = np.argmax(y_batch, axis = 1)#changed\n",
        "  accuracy_cnt += np.sum(p == t[i:i+batch_size])#changed\n",
        "\n",
        "print(\"Accuracy\", str(float(accuracy_cnt) / len(x)))"
      ],
      "execution_count": 31,
      "outputs": [
        {
          "output_type": "stream",
          "text": [
            "Accuracy 0.9352\n"
          ],
          "name": "stdout"
        }
      ]
    },
    {
      "cell_type": "markdown",
      "metadata": {
        "id": "VXsStGP0MeyP"
      },
      "source": [
        "To help understanding of `p = np.argmax(y_batch, axis = 1)` and `np.sum(p == t[i:i+batch_size])`"
      ]
    },
    {
      "cell_type": "code",
      "metadata": {
        "colab": {
          "base_uri": "https://localhost:8080/"
        },
        "id": "EaVJDeb0MoR9",
        "outputId": "ddfd4335-a166-436e-d623-62aa2f9651e8"
      },
      "source": [
        "x = np.array([[1.0, 0.8, 0.1], [0.3, 0.1, 0.6], [0.2, 0.5, 0.3], [0.8, 0.1, 0.1]])\n",
        "\n",
        "y = np.argmax(x, axis = 1)\n",
        "\n",
        "print(y)"
      ],
      "execution_count": 32,
      "outputs": [
        {
          "output_type": "stream",
          "text": [
            "[0 2 1 0]\n"
          ],
          "name": "stdout"
        }
      ]
    },
    {
      "cell_type": "code",
      "metadata": {
        "colab": {
          "base_uri": "https://localhost:8080/"
        },
        "id": "IcLWcNdgM5wT",
        "outputId": "88a5deef-da07-4892-e5d1-adf373f80ccf"
      },
      "source": [
        "y = np.array([1, 2, 1, 0])\n",
        "t = np.array([1, 2, 0, 0])\n",
        "print(y == t)\n",
        "\n",
        "np.sum(y == t)"
      ],
      "execution_count": 33,
      "outputs": [
        {
          "output_type": "stream",
          "text": [
            "[ True  True False  True]\n"
          ],
          "name": "stdout"
        },
        {
          "output_type": "execute_result",
          "data": {
            "text/plain": [
              "3"
            ]
          },
          "metadata": {
            "tags": []
          },
          "execution_count": 33
        }
      ]
    },
    {
      "cell_type": "markdown",
      "metadata": {
        "id": "VBlCMXYuO0kx"
      },
      "source": [
        "##**Conclusion**\n",
        "\n",
        "Here, we looked up the neural network's forward propagation. The neural network in this chapter is same with the perceptron in the feature of each layers' neuron propagating the signal to the next layer's neurons. However there were big difference of **Activation Function** through the signal propagates to next neuron. We used neural network's activation function as Sigmoid that is smoothly changing, on the other hand, at the perceptron we used activation function as Step function, which is suddenly changing.\n",
        "\n",
        "---\n",
        "- At the neural network, we use smoothly changing function like Sigmoid function or Relu as Activation function.\n",
        "- we can implement neural network efficiently using numpy's multi dimensional array.\n",
        "- The problem of machine learning can be divided into two main parts, the \"Regression\" and \"Classification\".\n",
        "- As the output's activation function, regression tend to use 'identity function', and classification tend to use 'softmax function'.\n",
        "- At the classification, the number of output layer's neurons are set equal to the number of classes to classify.\n",
        "- A bundle of input data is called a \"batch\", we can get more fast results when we task inference in batches.\n",
        "---"
      ]
    },
    {
      "cell_type": "markdown",
      "metadata": {
        "id": "Mn-G6aXiQBiI"
      },
      "source": [
        "#**2. Training Neural Network**\n",
        "---"
      ]
    },
    {
      "cell_type": "markdown",
      "metadata": {
        "id": "c546yTRJFT42"
      },
      "source": [
        "####**Sum of Squares For Error (SSE)**"
      ]
    },
    {
      "cell_type": "code",
      "metadata": {
        "id": "o4_IbBp0USw7"
      },
      "source": [
        "def sum_squares_error(y, t):\n",
        "  return 0.5 * np.sum((y - t)**2)"
      ],
      "execution_count": 34,
      "outputs": []
    },
    {
      "cell_type": "code",
      "metadata": {
        "colab": {
          "base_uri": "https://localhost:8080/"
        },
        "id": "OwDXvIr8VI5R",
        "outputId": "e5a51f93-ff95-46fa-f7f6-7c017e27a61e"
      },
      "source": [
        "t = [0,0,1,0,0,0,0,0,0,0]\n",
        "\n",
        "y = [0.1, 0.05, 0.6, 0.0, 0.05, 0.1, 0.0, 0.1, 0.0, 0.0]\n",
        "print(sum_squares_error(np.array(y), np.array(t)))\n",
        "\n",
        "y = [0.1, 0.05, 0.1, 0.0, 0.05, 0.1, 0.0, 0.6, 0.0, 0.0]\n",
        "print(sum_squares_error(np.array(y), np.array(t)))"
      ],
      "execution_count": 35,
      "outputs": [
        {
          "output_type": "stream",
          "text": [
            "0.09750000000000003\n",
            "0.5975\n"
          ],
          "name": "stdout"
        }
      ]
    },
    {
      "cell_type": "markdown",
      "metadata": {
        "id": "pRoQwFRpFcPi"
      },
      "source": [
        "####**Cross Entropy Error**\n",
        "\n",
        "\n"
      ]
    },
    {
      "cell_type": "code",
      "metadata": {
        "id": "w-r84cKbWFYl"
      },
      "source": [
        "def cross_entropy_error(y, t):\n",
        "  delta = 1e-7\n",
        "  return -np.sum(t*np.log(y+delta))"
      ],
      "execution_count": 36,
      "outputs": []
    },
    {
      "cell_type": "code",
      "metadata": {
        "colab": {
          "base_uri": "https://localhost:8080/"
        },
        "id": "RVGqitZWWP28",
        "outputId": "b9e4b9be-bda0-4c93-976a-d563ea687110"
      },
      "source": [
        "t = [0,0,1,0,0,0,0,0,0,0]\n",
        "\n",
        "y = [0.1, 0.05, 0.6, 0.0, 0.05, 0.1, 0.0, 0.1, 0.0, 0.0]\n",
        "print(cross_entropy_error(np.array(y), np.array(t)))\n",
        "\n",
        "y = [0.1, 0.05, 0.1, 0.0, 0.05, 0.1, 0.0, 0.6, 0.0, 0.0]\n",
        "print(cross_entropy_error(np.array(y), np.array(t)))"
      ],
      "execution_count": 37,
      "outputs": [
        {
          "output_type": "stream",
          "text": [
            "0.510825457099338\n",
            "2.302584092994546\n"
          ],
          "name": "stdout"
        }
      ]
    },
    {
      "cell_type": "code",
      "metadata": {
        "colab": {
          "base_uri": "https://localhost:8080/"
        },
        "id": "z4YKb_PGWnmI",
        "outputId": "53e64eeb-a35c-426b-cd8d-60d64284c9e6"
      },
      "source": [
        "#import sys, os\n",
        "#sys.path.append(os.pardir)\n",
        "%cd '/content/drive/MyDrive'\n",
        "import numpy as np\n",
        "from mnist import load_mnist #from dataset.mnist import load_mnist\n",
        "\n",
        "(x_train, t_train), (x_test, t_test) = load_mnist(normalize=True, one_hot_label=True)\n",
        "\n",
        "print(x_train.shape)\n",
        "print(t_train.shape)"
      ],
      "execution_count": 38,
      "outputs": [
        {
          "output_type": "stream",
          "text": [
            "/content/drive/MyDrive\n",
            "(60000, 784)\n",
            "(60000, 10)\n"
          ],
          "name": "stdout"
        }
      ]
    },
    {
      "cell_type": "code",
      "metadata": {
        "id": "t_y_x6O2XFOV"
      },
      "source": [
        "train_size = x_train.shape[0]\n",
        "batch_size = 10\n",
        "batch_mask = np.random.choice(train_size, batch_size)\n",
        "x_batch = x_train[batch_mask]\n",
        "t_batch = t_train[batch_mask]"
      ],
      "execution_count": 39,
      "outputs": []
    },
    {
      "cell_type": "code",
      "metadata": {
        "colab": {
          "base_uri": "https://localhost:8080/"
        },
        "id": "NDGNH_NjXfy0",
        "outputId": "70c1d839-6aad-4902-aa44-ad71d7357797"
      },
      "source": [
        "#To help understanding mini batching\n",
        "np.random.choice(60000, 10)"
      ],
      "execution_count": 40,
      "outputs": [
        {
          "output_type": "execute_result",
          "data": {
            "text/plain": [
              "array([44945, 38565,  7736, 19910, 37203, 39547, 56639, 10031, 34154,\n",
              "       12587])"
            ]
          },
          "metadata": {
            "tags": []
          },
          "execution_count": 40
        }
      ]
    },
    {
      "cell_type": "code",
      "metadata": {
        "id": "5_aDOjGOXnzn"
      },
      "source": [
        "def cross_entropy_error(y, t):\n",
        "  if y.ndim == 1:\n",
        "    t = t.reshape(1, t.size)\n",
        "    y = y.reshape(1, y.size)\n",
        "\n",
        "  batch_size = y.shape[0]\n",
        "  return -np.sum(t * np.log(y + 1e-7)) / batch_size"
      ],
      "execution_count": 41,
      "outputs": []
    },
    {
      "cell_type": "code",
      "metadata": {
        "id": "sE_SE7Ol0Kf_"
      },
      "source": [
        "def cross_entropy_error(y, t):\n",
        "  if y.ndim == 1:\n",
        "    t = t.reshape(1, t.size)\n",
        "    y = y.reshape(1, y.size)\n",
        "\n",
        "  batch_size = y.shape[0]\n",
        "  return -np.sum(np.log(y[np.arange(batch_size), t] + 1e-7)) / batch_size"
      ],
      "execution_count": 42,
      "outputs": []
    },
    {
      "cell_type": "markdown",
      "metadata": {
        "id": "RjmCzX_PJULf"
      },
      "source": [
        "####**Numerical Differentiation**"
      ]
    },
    {
      "cell_type": "code",
      "metadata": {
        "id": "IRdctEF20dWV"
      },
      "source": [
        "#Example of bad implement\n",
        "def numerical_diff(f, x):\n",
        "  h = 103-50\n",
        "  return (f(x + h) - f(x)) / h"
      ],
      "execution_count": 43,
      "outputs": []
    },
    {
      "cell_type": "code",
      "metadata": {
        "colab": {
          "base_uri": "https://localhost:8080/"
        },
        "id": "vZ6JTzP_0m-g",
        "outputId": "1df383d2-a9d7-44ed-a2d2-7085c78884ac"
      },
      "source": [
        "np.float32(1e-50)"
      ],
      "execution_count": 44,
      "outputs": [
        {
          "output_type": "execute_result",
          "data": {
            "text/plain": [
              "0.0"
            ]
          },
          "metadata": {
            "tags": []
          },
          "execution_count": 44
        }
      ]
    },
    {
      "cell_type": "code",
      "metadata": {
        "id": "0CD64uJ90wkd"
      },
      "source": [
        "def numerical_diff(f, x):\n",
        "  h = 1e-4 # 0.0001\n",
        "  return (f(x + h) - f(x - h)) / (2*h)"
      ],
      "execution_count": 45,
      "outputs": []
    },
    {
      "cell_type": "markdown",
      "metadata": {
        "id": "JdWv3y4yJauK"
      },
      "source": [
        "####**Analytic Differentiation**"
      ]
    },
    {
      "cell_type": "markdown",
      "metadata": {
        "id": "Uf5QsnmQJlUQ"
      },
      "source": [
        "y = 0.01x^2 + 0.1x"
      ]
    },
    {
      "cell_type": "code",
      "metadata": {
        "id": "xiztEk18JYL3"
      },
      "source": [
        "def function_1(x):\n",
        "  return 0.01*x**2 + 0.1*x"
      ],
      "execution_count": 46,
      "outputs": []
    },
    {
      "cell_type": "code",
      "metadata": {
        "colab": {
          "base_uri": "https://localhost:8080/",
          "height": 277
        },
        "id": "eyDVS96rJpFh",
        "outputId": "714b5a7c-1279-406f-ed1b-19df55802ad4"
      },
      "source": [
        "import numpy as np\n",
        "import matplotlib.pylab as plt\n",
        "\n",
        "x = np.arange(0.1, 20.0, 0.1) # create array of x from 0 to 20 with 0.1 interval\n",
        "y = function_1(x)\n",
        "plt.xlabel(\"x\")\n",
        "plt.ylabel(\"f(x)\")\n",
        "plt.plot(x, y)\n",
        "plt.show()"
      ],
      "execution_count": 47,
      "outputs": [
        {
          "output_type": "display_data",
          "data": {
            "image/png": "[encoded data removed]",
            "text/plain": [
              "<Figure size 432x288 with 1 Axes>"
            ]
          },
          "metadata": {
            "tags": [],
            "needs_background": "light"
          }
        }
      ]
    },
    {
      "cell_type": "markdown",
      "metadata": {
        "id": "jVQeKCAIKVcw"
      },
      "source": [
        "####**Very small difference between Numerical Diff and Analytic Diff**"
      ]
    },
    {
      "cell_type": "code",
      "metadata": {
        "colab": {
          "base_uri": "https://localhost:8080/"
        },
        "id": "_x5TCbROKG-f",
        "outputId": "5b8d3050-999c-48a3-be3a-95375fcf6624"
      },
      "source": [
        "numerical_diff(function_1, 5)\n",
        "numerical_diff(function_1, 10)"
      ],
      "execution_count": 48,
      "outputs": [
        {
          "output_type": "execute_result",
          "data": {
            "text/plain": [
              "0.2999999999986347"
            ]
          },
          "metadata": {
            "tags": []
          },
          "execution_count": 48
        }
      ]
    },
    {
      "cell_type": "markdown",
      "metadata": {
        "id": "BgETazQcKf_k"
      },
      "source": [
        "####**Partial Differentiation**\n",
        "\n",
        "> f(x0, x1) = x0^2 + x1^2\n",
        "\n"
      ]
    },
    {
      "cell_type": "code",
      "metadata": {
        "id": "s-vcilLbKlVP"
      },
      "source": [
        "def function_2(x):\n",
        "  return x[0]**2 + x[1]**2\n",
        "  # return np.sum(x**2)"
      ],
      "execution_count": 49,
      "outputs": []
    },
    {
      "cell_type": "markdown",
      "metadata": {
        "id": "oUi5bhRwK9Mw"
      },
      "source": [
        "x0 = 3, x1 = 4, df / dx0 ?"
      ]
    },
    {
      "cell_type": "code",
      "metadata": {
        "id": "n5oFFlDGK34l"
      },
      "source": [
        "def function_tmp1(x0):\n",
        "  return x0*x0 + 4.0**2.0"
      ],
      "execution_count": 50,
      "outputs": []
    },
    {
      "cell_type": "code",
      "metadata": {
        "colab": {
          "base_uri": "https://localhost:8080/"
        },
        "id": "5_hD8qWaL3UL",
        "outputId": "73846ea5-945b-465b-d7ee-0938dfdb8526"
      },
      "source": [
        "numerical_diff(function_tmp1, 3.0)"
      ],
      "execution_count": 51,
      "outputs": [
        {
          "output_type": "execute_result",
          "data": {
            "text/plain": [
              "6.00000000000378"
            ]
          },
          "metadata": {
            "tags": []
          },
          "execution_count": 51
        }
      ]
    },
    {
      "cell_type": "markdown",
      "metadata": {
        "id": "m2hWdcS0L77P"
      },
      "source": [
        "df / dx1 ?"
      ]
    },
    {
      "cell_type": "code",
      "metadata": {
        "id": "YstnSrDtL_RO"
      },
      "source": [
        "def function_tmp2(x1):\n",
        "  return 3.0**2.0 + x1*x1"
      ],
      "execution_count": 52,
      "outputs": []
    },
    {
      "cell_type": "code",
      "metadata": {
        "colab": {
          "base_uri": "https://localhost:8080/"
        },
        "id": "RZagkmrmM8Ht",
        "outputId": "e4dcbe4c-1de5-4c0f-f3d9-28b711baba4c"
      },
      "source": [
        "numerical_diff(function_tmp2, 4)"
      ],
      "execution_count": 53,
      "outputs": [
        {
          "output_type": "execute_result",
          "data": {
            "text/plain": [
              "7.999999999999119"
            ]
          },
          "metadata": {
            "tags": []
          },
          "execution_count": 53
        }
      ]
    },
    {
      "cell_type": "markdown",
      "metadata": {
        "id": "6HUq6IjfNAzC"
      },
      "source": [
        "###**Gradient**"
      ]
    },
    {
      "cell_type": "code",
      "metadata": {
        "id": "drB4HxTDNGuC"
      },
      "source": [
        "def numerical_gradient(f, x):\n",
        "  h = 1e-4 # 0.001\n",
        "  grad = np.zeros_like(x) #create the array that forms same as x\n",
        "\n",
        "  for idx in range(x.size):\n",
        "    tmp_val = x[idx]\n",
        "    #f(x+h)\n",
        "    x[idx] = tmp_val + h\n",
        "    fxh1 = f(x)\n",
        "\n",
        "    #f(x - h)\n",
        "    x[idx] = tmp_val - h\n",
        "    fxh2 = f(x)\n",
        "\n",
        "    grad[idx] = (fxh1 - fxh2) / (2*h)\n",
        "    x[idx] = tmp_val\n",
        "\n",
        "  return grad"
      ],
      "execution_count": 54,
      "outputs": []
    },
    {
      "cell_type": "code",
      "metadata": {
        "colab": {
          "base_uri": "https://localhost:8080/"
        },
        "id": "zuQtPWI_N7Ql",
        "outputId": "04e3f9a7-7897-478d-d7ab-f40bb191c8e0"
      },
      "source": [
        "numerical_gradient(function_2, np.array([3.0, 4.0]))\n",
        "numerical_gradient(function_2, np.array([0.0, 2.0]))\n",
        "numerical_gradient(function_2, np.array([3.0, 0.0]))"
      ],
      "execution_count": 55,
      "outputs": [
        {
          "output_type": "execute_result",
          "data": {
            "text/plain": [
              "array([6., 0.])"
            ]
          },
          "metadata": {
            "tags": []
          },
          "execution_count": 55
        }
      ]
    },
    {
      "cell_type": "markdown",
      "metadata": {
        "id": "JwdFEWndORFq"
      },
      "source": [
        "####**Negative Vector of this gradient result**"
      ]
    },
    {
      "cell_type": "markdown",
      "metadata": {
        "id": "BUbMEyZtOcVf"
      },
      "source": [
        "###**Gradient Descent**"
      ]
    },
    {
      "cell_type": "code",
      "metadata": {
        "id": "0zBKlTATOgAc"
      },
      "source": [
        "def gradient_descent(f, init_x, lr=0.01, step_num=100):\n",
        "  x = init_x\n",
        "\n",
        "  for i in range(step_num):\n",
        "    grad = numerical_gradient(f, x)\n",
        "    x -= lr * grad\n",
        "  return x"
      ],
      "execution_count": 56,
      "outputs": []
    },
    {
      "cell_type": "code",
      "metadata": {
        "colab": {
          "base_uri": "https://localhost:8080/"
        },
        "id": "w4cD3pdWO2YI",
        "outputId": "579946bb-ebf9-419f-cb88-c89b4ca3b787"
      },
      "source": [
        "def function_2(x):\n",
        "  return x[0]**2 + x[1]**2\n",
        "\n",
        "init_x = np.array([-3.0, 4.0])\n",
        "gradient_descent(function_2, init_x = init_x, lr = 0.1, step_num =100)"
      ],
      "execution_count": 57,
      "outputs": [
        {
          "output_type": "execute_result",
          "data": {
            "text/plain": [
              "array([-6.11110793e-10,  8.14814391e-10])"
            ]
          },
          "metadata": {
            "tags": []
          },
          "execution_count": 57
        }
      ]
    },
    {
      "cell_type": "markdown",
      "metadata": {
        "id": "iaOs0VaZPHWq"
      },
      "source": [
        "####**Too large or too small learning rate is not good**"
      ]
    },
    {
      "cell_type": "code",
      "metadata": {
        "colab": {
          "base_uri": "https://localhost:8080/"
        },
        "id": "unfTerxePNPy",
        "outputId": "288c678f-f54b-4850-e34e-fbe608858578"
      },
      "source": [
        "init_x = np.array([-3.0, 4.0])\n",
        "gradient_descent(function_2, init_x = init_x, lr = 10.0, step_num=100)"
      ],
      "execution_count": 58,
      "outputs": [
        {
          "output_type": "execute_result",
          "data": {
            "text/plain": [
              "array([-2.58983747e+13, -1.29524862e+12])"
            ]
          },
          "metadata": {
            "tags": []
          },
          "execution_count": 58
        }
      ]
    },
    {
      "cell_type": "code",
      "metadata": {
        "colab": {
          "base_uri": "https://localhost:8080/"
        },
        "id": "Gztd47QGPV3y",
        "outputId": "f41585b6-05ab-4bbb-cac6-81f5c6a5056c"
      },
      "source": [
        "init_x = np.array([-3.0, 4.0])\n",
        "gradient_descent(function_2, init_x = init_x, lr = 1e-10, step_num=100)"
      ],
      "execution_count": 59,
      "outputs": [
        {
          "output_type": "execute_result",
          "data": {
            "text/plain": [
              "array([-2.99999994,  3.99999992])"
            ]
          },
          "metadata": {
            "tags": []
          },
          "execution_count": 59
        }
      ]
    },
    {
      "cell_type": "markdown",
      "metadata": {
        "id": "6mbet2YDPoj1"
      },
      "source": [
        "####**Hyper-parameter**"
      ]
    },
    {
      "cell_type": "markdown",
      "metadata": {
        "id": "Wm7d4KO3PsiD"
      },
      "source": [
        "###**Gradient in Neural Network**"
      ]
    },
    {
      "cell_type": "code",
      "metadata": {
        "colab": {
          "base_uri": "https://localhost:8080/"
        },
        "id": "X94WNVlePv37",
        "outputId": "560ed44f-9e02-4ead-f0d5-d5c122ea28b7"
      },
      "source": [
        "#import sys, os\n",
        "#sys,path.append(os.pardir)\n",
        "%cd '/content/drive/MyDrive/Study-Deep-Learning-from-Scratch'\n",
        "#import numpy as np\n",
        "from common.functions import softmax, cross_entropy_error\n",
        "from common.gradient import numerical_gradient #get the changed numerical_gradient function from common for 2d gradient\n",
        "\n",
        "class simpleNet:\n",
        "  def __init__(self):\n",
        "    self.W = np.random.randn(2,3) #initialize with normal distribution\n",
        "\n",
        "  def predict(self, x):\n",
        "    return np.dot(x, self.W)\n",
        "\n",
        "  def loss(self, x, t):\n",
        "    z = self.predict(x)\n",
        "    y = softmax(z)\n",
        "    loss = cross_entropy_error(y, t)\n",
        "\n",
        "    return loss"
      ],
      "execution_count": 60,
      "outputs": [
        {
          "output_type": "stream",
          "text": [
            "/content/drive/MyDrive/Study-Deep-Learning-from-Scratch\n"
          ],
          "name": "stdout"
        }
      ]
    },
    {
      "cell_type": "markdown",
      "metadata": {
        "id": "hlQHlrbgY0nL"
      },
      "source": [
        "####**Test with simpleNet**"
      ]
    },
    {
      "cell_type": "code",
      "metadata": {
        "colab": {
          "base_uri": "https://localhost:8080/"
        },
        "id": "ALc6CtDfYzpz",
        "outputId": "bdc7b717-36c5-407b-95a7-b39f2842c55c"
      },
      "source": [
        "net = simpleNet()\n",
        "print(net.W)\n",
        "\n",
        "x = np.array([0.6, 0.9])\n",
        "p = net.predict(x)\n",
        "print(p)\n",
        "\n",
        "np.argmax(p)\n",
        "\n",
        "t = np.array([0,0,1]) ######## Arbitrary Answer\n",
        "net.loss(x, t)"
      ],
      "execution_count": 61,
      "outputs": [
        {
          "output_type": "stream",
          "text": [
            "[[-2.27672629 -1.39631062 -1.36160285]\n",
            " [ 1.54033875 -1.02062737  0.49027703]]\n",
            "[ 0.0202691  -1.756351   -0.37571238]\n"
          ],
          "name": "stdout"
        },
        {
          "output_type": "execute_result",
          "data": {
            "text/plain": [
              "1.0069570553050677"
            ]
          },
          "metadata": {
            "tags": []
          },
          "execution_count": 61
        }
      ]
    },
    {
      "cell_type": "code",
      "metadata": {
        "colab": {
          "base_uri": "https://localhost:8080/"
        },
        "id": "62xVXL0Ib3RW",
        "outputId": "a096f511-3ebb-465b-ecc2-b25515e2af3a"
      },
      "source": [
        "def f(W):\n",
        "  return net.loss(x,t)\n",
        "\n",
        "dW = numerical_gradient(f, net.W)\n",
        "print(dW)"
      ],
      "execution_count": 62,
      "outputs": [
        {
          "output_type": "stream",
          "text": [
            "[[ 0.32569245  0.05511012 -0.38080258]\n",
            " [ 0.48853868  0.08266519 -0.57120386]]\n"
          ],
          "name": "stdout"
        }
      ]
    },
    {
      "cell_type": "code",
      "metadata": {
        "id": "xtwEakrncYqV"
      },
      "source": [
        "f = lambda w: net.loss(x, t)\n",
        "dW = numerical_gradient(f, net.W)"
      ],
      "execution_count": 63,
      "outputs": []
    },
    {
      "cell_type": "markdown",
      "metadata": {
        "id": "KEBfVhQVeFxt"
      },
      "source": [
        "##**Implement 2 Layer Neural Network**"
      ]
    },
    {
      "cell_type": "code",
      "metadata": {
        "id": "ZdZvE6WbeFHF"
      },
      "source": [
        "# coding: utf-8\n",
        "import sys, os\n",
        "sys.path.append(os.pardir)  # 부모 디렉터리의 파일을 가져올 수 있도록 설정\n",
        "from common.functions import *\n",
        "from common.gradient import numerical_gradient\n",
        "\n",
        "\n",
        "class TwoLayerNet:\n",
        "\n",
        "    def __init__(self, input_size, hidden_size, output_size, weight_init_std=0.01):\n",
        "        # 가중치 초기화\n",
        "        self.params = {}\n",
        "        self.params['W1'] = weight_init_std * np.random.randn(input_size, hidden_size)\n",
        "        self.params['b1'] = np.zeros(hidden_size)\n",
        "        self.params['W2'] = weight_init_std * np.random.randn(hidden_size, output_size)\n",
        "        self.params['b2'] = np.zeros(output_size)\n",
        "\n",
        "    def predict(self, x):\n",
        "        W1, W2 = self.params['W1'], self.params['W2']\n",
        "        b1, b2 = self.params['b1'], self.params['b2']\n",
        "    \n",
        "        a1 = np.dot(x, W1) + b1\n",
        "        z1 = sigmoid(a1)\n",
        "        a2 = np.dot(z1, W2) + b2\n",
        "        y = softmax(a2)\n",
        "        \n",
        "        return y\n",
        "        \n",
        "    # x : 입력 데이터, t : 정답 레이블\n",
        "    def loss(self, x, t):\n",
        "        y = self.predict(x)\n",
        "        \n",
        "        return cross_entropy_error(y, t)\n",
        "    \n",
        "    def accuracy(self, x, t):\n",
        "        y = self.predict(x)\n",
        "        y = np.argmax(y, axis=1)\n",
        "        t = np.argmax(t, axis=1)\n",
        "        \n",
        "        accuracy = np.sum(y == t) / float(x.shape[0])\n",
        "        return accuracy\n",
        "        \n",
        "    # x : 입력 데이터, t : 정답 레이블\n",
        "    def numerical_gradient(self, x, t):\n",
        "        loss_W = lambda W: self.loss(x, t)\n",
        "        \n",
        "        grads = {}\n",
        "        grads['W1'] = numerical_gradient(loss_W, self.params['W1'])\n",
        "        grads['b1'] = numerical_gradient(loss_W, self.params['b1'])\n",
        "        grads['W2'] = numerical_gradient(loss_W, self.params['W2'])\n",
        "        grads['b2'] = numerical_gradient(loss_W, self.params['b2'])\n",
        "        \n",
        "        return grads\n",
        "        \n",
        "    def gradient(self, x, t):\n",
        "        W1, W2 = self.params['W1'], self.params['W2']\n",
        "        b1, b2 = self.params['b1'], self.params['b2']\n",
        "        grads = {}\n",
        "        \n",
        "        batch_num = x.shape[0]\n",
        "        \n",
        "        # forward\n",
        "        a1 = np.dot(x, W1) + b1\n",
        "        z1 = sigmoid(a1)\n",
        "        a2 = np.dot(z1, W2) + b2\n",
        "        y = softmax(a2)\n",
        "        \n",
        "        # backward\n",
        "        dy = (y - t) / batch_num\n",
        "        grads['W2'] = np.dot(z1.T, dy)\n",
        "        grads['b2'] = np.sum(dy, axis=0)\n",
        "        \n",
        "        da1 = np.dot(dy, W2.T)\n",
        "        dz1 = sigmoid_grad(a1) * da1\n",
        "        grads['W1'] = np.dot(x.T, dz1)\n",
        "        grads['b1'] = np.sum(dz1, axis=0)\n",
        "\n",
        "        return grads\n"
      ],
      "execution_count": 83,
      "outputs": []
    },
    {
      "cell_type": "code",
      "metadata": {
        "colab": {
          "base_uri": "https://localhost:8080/"
        },
        "id": "g3ANWX8U7oro",
        "outputId": "98af5dc7-657e-4e2d-efa6-2ddf60e17e28"
      },
      "source": [
        "net = TwoLayerNet(input_size=784, hidden_size=100, output_size=10)\n",
        "net.params['W1'].shape #(784, 100)\n",
        "net.params['b1'].shape #(100,   )\n",
        "net.params['W2'].shape #(100, 10)\n",
        "net.params['b2'].shape #(10,    )"
      ],
      "execution_count": 77,
      "outputs": [
        {
          "output_type": "execute_result",
          "data": {
            "text/plain": [
              "(10,)"
            ]
          },
          "metadata": {
            "tags": []
          },
          "execution_count": 77
        }
      ]
    },
    {
      "cell_type": "code",
      "metadata": {
        "id": "9oVlaijn8f2d"
      },
      "source": [
        "x = np.random.rand(100, 784)\n",
        "y = net.predict(x)"
      ],
      "execution_count": 78,
      "outputs": []
    },
    {
      "cell_type": "code",
      "metadata": {
        "id": "AsNRCv6_8zPq"
      },
      "source": [
        "x = np.random.rand(100, 784) # dummy input data\n",
        "t = np.random.rand(100, 10) # dummy answer label\n",
        "\n",
        "grads = net.numerical_gradient(x, t)\n",
        "\n",
        "grads['W1'].shape\n",
        "grads['b1'].shape\n",
        "grads['W2'].shape\n",
        "grads['b2'].shape"
      ],
      "execution_count": 81,
      "outputs": []
    },
    {
      "cell_type": "markdown",
      "metadata": {
        "id": "ob800hSn_Q66"
      },
      "source": [
        "###**Training with MiniBatch**"
      ]
    },
    {
      "cell_type": "code",
      "metadata": {
        "id": "jo7tOOqt_T7z"
      },
      "source": [
        "import numpy as np\n",
        "from dataset.mnist import load_mnist\n",
        "\n",
        "(x_train, t_train), (x_test, t_test) = load_mnist(normalize=True, one_hot_label=True)\n",
        "\n",
        "train_loss_list = []\n",
        "\n",
        "#hyperparameters\n",
        "\n",
        "iters_num = 10000\n",
        "train_size = x_train.shape[0]\n",
        "batch_size = 100 #size of the mini batch\n",
        "learning_rate = 0.1\n",
        "\n",
        "network = TwoLayerNet(input_size = 784, hidden_size= 50, output_size= 10)\n",
        "\n",
        "for i in range(iters_num):\n",
        "  #get the mini batch\n",
        "  batch_mask = np.random.choice(train_size, batch_size)\n",
        "  x_batch = x_train[batch_mask]\n",
        "  t_batch = t_train[batch_mask]\n",
        "\n",
        "  grad = network.numerical_gradient(x_batch, t_batch)\n",
        "  # grad = network.gradient(x_batch, t_batch) #upgrade version\n",
        "\n",
        "  for key in ('W1', 'b1', 'W2', 'b2'):\n",
        "    network.params[key] -= learning_rate * grad[key]\n",
        "\n",
        "  loss = network.loss(x_batch, t_batch)\n",
        "  train_loss_list.append(loss)\n",
        "\n",
        "\n"
      ],
      "execution_count": null,
      "outputs": []
    }
  ]
}
